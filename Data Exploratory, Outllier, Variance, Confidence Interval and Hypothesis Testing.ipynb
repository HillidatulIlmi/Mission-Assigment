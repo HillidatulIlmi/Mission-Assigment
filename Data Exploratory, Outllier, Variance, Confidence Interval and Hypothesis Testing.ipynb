{
  "cells": [
    {
      "cell_type": "markdown",
      "metadata": {
        "id": "AJ6loNvAoHfg"
      },
      "source": [
        "# Perkenalan\n",
        "\n",
        "Nama : Hillidatul Ilmi\n",
        "\n",
        "Batch : 12"
      ]
    },
    {
      "cell_type": "markdown",
      "metadata": {
        "id": "kbtZLN_-o74n"
      },
      "source": [
        "# Dataset Description\n",
        "\n",
        "- Pada graded challenge ini, data diakses menggunakan bigquery-public-data pada Google Cloud Big Query.\n",
        "- Buka Google Cloud Platform, masuk ke BigQuery, lalu buka tab bigquery-public-data atau klik link berikut atau link berikut untuk langsung menuju ke tabel.\n",
        "\n",
        "Berikut adalah syntax yang saya gunakan dalam membuat tabel dari query :"
      ]
    },
    {
      "cell_type": "code",
      "execution_count": null,
      "metadata": {
        "id": "6DTzxgKMpXoL"
      },
      "outputs": [],
      "source": [
        "#Memangil atau hanya menampilkan kolom load_type,long_time,load_weight,dropoff_site\n",
        "SELECT \n",
        "load_type,load_time, load_weight, dropoff_site \n",
        "# Dari tabel waste_and_diversion pada dataset austin_waste hanya menampilkan 150.000 data\n",
        "FROM `bigquery-public-data.austin_waste.waste_and_diversion` LIMIT 150000"
      ]
    },
    {
      "cell_type": "markdown",
      "metadata": {
        "id": "by4KTkk1sdkY"
      },
      "source": [
        "Berdasarkan perintah query yang di jalankan, maka menghasilkan dataset tabel yang memiliki ukuran 150000 baris dengan 4 kolom, yang jika di save result google drive memakan memori 8,6 MB. Berdasarkan data tabel ini akan di analisis untuk Assignment Problems."
      ]
    },
    {
      "cell_type": "markdown",
      "metadata": {
        "id": "1tQ82gwWyHIN"
      },
      "source": [
        "# Assignment Problems\n",
        "\n",
        "Kamu adalah anggota tim Data Science di Austin Smart City dan sedang mengerjakan projek analisa sistem pembuangan dan pengelolaan sampah di kota tersebut. Sebagai anggota tim, berdasarkan data yang tersedia, coba analisa data tersebut menggunakan statistik deskriptif dan inferensial, serta berikan insight kepada pemerintah kota Austin mengenai kondisi sistem pembuangan dan pengelolaan sampah. Gunakan guideline/langkah berikut untuk mempermudah kamu dalam menganalisa.\n",
        "\n"
      ]
    },
    {
      "cell_type": "markdown",
      "metadata": {
        "id": "H8fsQwmbS94E"
      },
      "source": [
        "### 1"
      ]
    },
    {
      "cell_type": "markdown",
      "metadata": {
        "id": "gB2yMK-4tgiX"
      },
      "source": [
        "**Nomor 1** : Sebelum melakukan perhitungan dan analisa statistik, lakukan pembersihan data terlebih dahulu. Pastikan tidak ada missing value, dsb"
      ]
    },
    {
      "cell_type": "code",
      "execution_count": 1,
      "metadata": {
        "colab": {
          "base_uri": "https://localhost:8080/",
          "height": 424
        },
        "id": "0rcblurewUls",
        "outputId": "345dd169-98fa-4b7b-9d98-cae36c97ac9f"
      },
      "outputs": [
        {
          "data": {
            "text/html": [
              "<div>\n",
              "<style scoped>\n",
              "    .dataframe tbody tr th:only-of-type {\n",
              "        vertical-align: middle;\n",
              "    }\n",
              "\n",
              "    .dataframe tbody tr th {\n",
              "        vertical-align: top;\n",
              "    }\n",
              "\n",
              "    .dataframe thead th {\n",
              "        text-align: right;\n",
              "    }\n",
              "</style>\n",
              "<table border=\"1\" class=\"dataframe\">\n",
              "  <thead>\n",
              "    <tr style=\"text-align: right;\">\n",
              "      <th></th>\n",
              "      <th>load_type</th>\n",
              "      <th>load_time</th>\n",
              "      <th>load_weight</th>\n",
              "      <th>dropoff_site</th>\n",
              "    </tr>\n",
              "  </thead>\n",
              "  <tbody>\n",
              "    <tr>\n",
              "      <th>0</th>\n",
              "      <td>RECYCLING - SINGLE STREAM</td>\n",
              "      <td>2009-08-07 11:51:00 UTC</td>\n",
              "      <td>4400.0</td>\n",
              "      <td>MRF</td>\n",
              "    </tr>\n",
              "    <tr>\n",
              "      <th>1</th>\n",
              "      <td>RECYCLING - PAPER</td>\n",
              "      <td>2008-04-11 12:31:00 UTC</td>\n",
              "      <td>1920.0</td>\n",
              "      <td>MRF</td>\n",
              "    </tr>\n",
              "    <tr>\n",
              "      <th>2</th>\n",
              "      <td>RECYCLING - SINGLE STREAM</td>\n",
              "      <td>2009-01-16 12:58:00 UTC</td>\n",
              "      <td>4140.0</td>\n",
              "      <td>MRF</td>\n",
              "    </tr>\n",
              "    <tr>\n",
              "      <th>3</th>\n",
              "      <td>RECYCLING - SINGLE STREAM</td>\n",
              "      <td>2009-07-10 11:21:00 UTC</td>\n",
              "      <td>4020.0</td>\n",
              "      <td>MRF</td>\n",
              "    </tr>\n",
              "    <tr>\n",
              "      <th>4</th>\n",
              "      <td>RECYCLING - COMINGLE</td>\n",
              "      <td>2006-02-03 12:36:00 UTC</td>\n",
              "      <td>1700.0</td>\n",
              "      <td>MRF</td>\n",
              "    </tr>\n",
              "    <tr>\n",
              "      <th>...</th>\n",
              "      <td>...</td>\n",
              "      <td>...</td>\n",
              "      <td>...</td>\n",
              "      <td>...</td>\n",
              "    </tr>\n",
              "    <tr>\n",
              "      <th>149995</th>\n",
              "      <td>RECYCLING - SINGLE STREAM</td>\n",
              "      <td>2011-08-17 12:45:00 UTC</td>\n",
              "      <td>13380.0</td>\n",
              "      <td>TDS - MRF</td>\n",
              "    </tr>\n",
              "    <tr>\n",
              "      <th>149996</th>\n",
              "      <td>RECYCLING - SINGLE STREAM</td>\n",
              "      <td>2011-06-08 10:59:00 UTC</td>\n",
              "      <td>14080.0</td>\n",
              "      <td>TDS - MRF</td>\n",
              "    </tr>\n",
              "    <tr>\n",
              "      <th>149997</th>\n",
              "      <td>RECYCLING - SINGLE STREAM</td>\n",
              "      <td>2012-04-11 12:09:00 UTC</td>\n",
              "      <td>14260.0</td>\n",
              "      <td>TDS - MRF</td>\n",
              "    </tr>\n",
              "    <tr>\n",
              "      <th>149998</th>\n",
              "      <td>RECYCLING - SINGLE STREAM</td>\n",
              "      <td>2011-08-31 02:50:00 UTC</td>\n",
              "      <td>4100.0</td>\n",
              "      <td>TDS - MRF</td>\n",
              "    </tr>\n",
              "    <tr>\n",
              "      <th>149999</th>\n",
              "      <td>RECYCLING - SINGLE STREAM</td>\n",
              "      <td>2011-07-20 11:21:00 UTC</td>\n",
              "      <td>6220.0</td>\n",
              "      <td>TDS - MRF</td>\n",
              "    </tr>\n",
              "  </tbody>\n",
              "</table>\n",
              "<p>150000 rows × 4 columns</p>\n",
              "</div>"
            ],
            "text/plain": [
              "                        load_type                load_time  load_weight  \\\n",
              "0       RECYCLING - SINGLE STREAM  2009-08-07 11:51:00 UTC       4400.0   \n",
              "1               RECYCLING - PAPER  2008-04-11 12:31:00 UTC       1920.0   \n",
              "2       RECYCLING - SINGLE STREAM  2009-01-16 12:58:00 UTC       4140.0   \n",
              "3       RECYCLING - SINGLE STREAM  2009-07-10 11:21:00 UTC       4020.0   \n",
              "4            RECYCLING - COMINGLE  2006-02-03 12:36:00 UTC       1700.0   \n",
              "...                           ...                      ...          ...   \n",
              "149995  RECYCLING - SINGLE STREAM  2011-08-17 12:45:00 UTC      13380.0   \n",
              "149996  RECYCLING - SINGLE STREAM  2011-06-08 10:59:00 UTC      14080.0   \n",
              "149997  RECYCLING - SINGLE STREAM  2012-04-11 12:09:00 UTC      14260.0   \n",
              "149998  RECYCLING - SINGLE STREAM  2011-08-31 02:50:00 UTC       4100.0   \n",
              "149999  RECYCLING - SINGLE STREAM  2011-07-20 11:21:00 UTC       6220.0   \n",
              "\n",
              "       dropoff_site  \n",
              "0               MRF  \n",
              "1               MRF  \n",
              "2               MRF  \n",
              "3               MRF  \n",
              "4               MRF  \n",
              "...             ...  \n",
              "149995    TDS - MRF  \n",
              "149996    TDS - MRF  \n",
              "149997    TDS - MRF  \n",
              "149998    TDS - MRF  \n",
              "149999    TDS - MRF  \n",
              "\n",
              "[150000 rows x 4 columns]"
            ]
          },
          "execution_count": 1,
          "metadata": {},
          "output_type": "execute_result"
        }
      ],
      "source": [
        "#Library untuk memangil data\n",
        "import pandas as pd\n",
        "import numpy as np\n",
        "\n",
        "#Menampilkan data tabel austin waste untuk dianalisis\n",
        "austin_waste = pd.read_csv('h8dsft_P0W3_Hillidatul Ilmii.csv')\n",
        "austin_waste"
      ]
    },
    {
      "cell_type": "code",
      "execution_count": 2,
      "metadata": {
        "colab": {
          "base_uri": "https://localhost:8080/"
        },
        "id": "QuIwY_O0wUlu",
        "outputId": "9907c37b-1e2a-4b79-8a6a-a279afe42b4e"
      },
      "outputs": [
        {
          "data": {
            "text/plain": [
              "(150000, 4)"
            ]
          },
          "execution_count": 2,
          "metadata": {},
          "output_type": "execute_result"
        }
      ],
      "source": [
        "austin_waste.shape"
      ]
    },
    {
      "cell_type": "markdown",
      "metadata": {
        "id": "keglK5ShwDvq"
      },
      "source": [
        "Proses penyiapan data berupa data cleaning sebelum dilakukan explorasi data. Data cleaning di lakukan untuk menghindari data yang tidak baik untuk di analisis atau menghindari terjadi nya error akibat tabel berisikan missing value. Missing valuee terjadi karena dua hal yaitu kesalahan manusia dalam meninput data/mengumpulkan data atau secara alamiah sudah mengandung missing value."
      ]
    },
    {
      "cell_type": "code",
      "execution_count": 3,
      "metadata": {
        "colab": {
          "base_uri": "https://localhost:8080/"
        },
        "id": "Lw7K0_b-wUlv",
        "outputId": "6a53dd5e-7824-4c86-d124-9124c562a1e2"
      },
      "outputs": [
        {
          "name": "stdout",
          "output_type": "stream",
          "text": [
            "<class 'pandas.core.frame.DataFrame'>\n",
            "RangeIndex: 150000 entries, 0 to 149999\n",
            "Data columns (total 4 columns):\n",
            " #   Column        Non-Null Count   Dtype  \n",
            "---  ------        --------------   -----  \n",
            " 0   load_type     150000 non-null  object \n",
            " 1   load_time     150000 non-null  object \n",
            " 2   load_weight   144934 non-null  float64\n",
            " 3   dropoff_site  150000 non-null  object \n",
            "dtypes: float64(1), object(3)\n",
            "memory usage: 4.6+ MB\n"
          ]
        }
      ],
      "source": [
        "# Pengecekan missing value pada tabel austin_waste\n",
        "\n",
        "# RangeIndex :> menampilkan jumlah entri data, akan menampilkan informasi yang ada di setiap kolom\n",
        "# Non-Null Count :> Keberadaan missing value yang ada di setiap kolom nya, \n",
        "#                   jika jumlah non-null sama dengan entri data berarti keberadaan setdata hampir lengkap\n",
        "#                   jika jumlah non-null kurang dari entri data bearti terdapat missing value dalam kolom dataset\n",
        "# Dtype : Menampilkan type data setiap kolomnya (misal : load_weight type datanya float)\n",
        "# Missing value juga lebih baik di bersihkan atau di benerin\n",
        "austin_waste.info()"
      ]
    },
    {
      "cell_type": "markdown",
      "metadata": {
        "id": "I7QOiszN7cxR"
      },
      "source": [
        "Hasil analisa standard missing value pada kolom load_type, load_time, load_weight dan dropoff_site :\n",
        "\n",
        "Berdasarkan proses .info yang digunakan untuk melihat spesifikasi masing-masing dataset kolom missing value, maka informasi dataset diperoleh bahwa kolom load_weight mengandung Non-Null Count 144934 non-nul, yang artinya terdapat missing value sebesar 5066 data.\n",
        "\n",
        "---\n",
        "Karena terdapat missing value pada kolom load_weight, maka akan dilakukan replace missing values. Dibandingkan dengan menghapusnya/Drop, mengganti nilai missing values menjadi pilihan yang lebih baik karena tidak ada data yang terbuang. Namun tentu data kolom load_weight tersebut menjadi kurang akurat karena diisi dengan nilai yang diperkirakan."
      ]
    },
    {
      "cell_type": "code",
      "execution_count": 4,
      "metadata": {
        "id": "iMlnPq1owUlw"
      },
      "outputs": [],
      "source": [
        "# Pembersihan data\n",
        "# Replace atau mengisi nilai missing value dengan nilai median\n",
        "median = austin_waste[\"load_weight\"].median()\n",
        "austin_waste[\"load_weight\"] = austin_waste[\"load_weight\"].replace(np.nan, median)\n",
        "data = austin_waste"
      ]
    },
    {
      "cell_type": "code",
      "execution_count": 5,
      "metadata": {
        "colab": {
          "base_uri": "https://localhost:8080/"
        },
        "id": "M5Ce2_4FwUlx",
        "outputId": "ed9678b6-8c17-4c4c-bfdb-1d51e72d006f"
      },
      "outputs": [
        {
          "name": "stdout",
          "output_type": "stream",
          "text": [
            "<class 'pandas.core.frame.DataFrame'>\n",
            "RangeIndex: 150000 entries, 0 to 149999\n",
            "Data columns (total 4 columns):\n",
            " #   Column        Non-Null Count   Dtype  \n",
            "---  ------        --------------   -----  \n",
            " 0   load_type     150000 non-null  object \n",
            " 1   load_time     150000 non-null  object \n",
            " 2   load_weight   150000 non-null  float64\n",
            " 3   dropoff_site  150000 non-null  object \n",
            "dtypes: float64(1), object(3)\n",
            "memory usage: 4.6+ MB\n"
          ]
        }
      ],
      "source": [
        "data.info()"
      ]
    },
    {
      "cell_type": "markdown",
      "metadata": {
        "id": "CMV4_9LK-OCC"
      },
      "source": [
        "Hasil analisa pembersihan data atau standard missing value pada kolom load_weight diperoleh, berdasarkan proses .info yang digunakan untuk melihat spesifikasi masing-masing dataset kolom standar memiliki nilai 150000 non-null sama dengan entri data sebesar 150000. Sehingga tabel data bisa di gunakan ke tahap analisis statistika deskriptif dan statistika inferensial."
      ]
    },
    {
      "cell_type": "markdown",
      "metadata": {
        "id": "4S9OFvxVTE6W"
      },
      "source": [
        "### 2"
      ]
    },
    {
      "cell_type": "markdown",
      "metadata": {
        "id": "HO_Psaf4wUlx"
      },
      "source": [
        "**Nomor 2** : Selanjutnya, lakukan eksplorasi data sederhana guna mengetahui dan mengenali data yang kamu punya. Kamu bisa lakukan hal-hal berikut untuk mengeksplorasi data kamu.\n",
        "\n",
        "a. Melihat rentang waktu pengambilan data\n",
        "\n",
        "b. Ada apa saja tipe load sampah di kota Austin berdasarkan data\n",
        "\n",
        "c. Mengetahui tempat pembuangan sampah ada dimana saja\n",
        "\n",
        "d. Berapa site lokasi yang dibutuhkan untuk menampung berat sampah\n",
        "\n",
        "e. Apakah lokasi dropoff_site zilker dan park bend memilik kapasitas menampung sampah yang sama\n",
        "\n",
        "f. Apakah lokasi dropoff_site elmont, kramer dan clarkson memiliki kapasitas menampung sampah yang sama"
      ]
    },
    {
      "cell_type": "markdown",
      "metadata": {
        "id": "DezxXn6FMTQZ"
      },
      "source": [
        "- Melihat rentang waktu pengambilan data"
      ]
    },
    {
      "cell_type": "code",
      "execution_count": 6,
      "metadata": {
        "colab": {
          "base_uri": "https://localhost:8080/",
          "height": 35
        },
        "id": "GiHGTyidLfAr",
        "outputId": "a4ececff-02d6-4773-9042-771930ab3d55"
      },
      "outputs": [
        {
          "data": {
            "text/plain": [
              "'2000-01-26 12:39:00 UTC'"
            ]
          },
          "execution_count": 6,
          "metadata": {},
          "output_type": "execute_result"
        }
      ],
      "source": [
        "data['load_time'].min()"
      ]
    },
    {
      "cell_type": "code",
      "execution_count": 7,
      "metadata": {
        "colab": {
          "base_uri": "https://localhost:8080/",
          "height": 35
        },
        "id": "rtnHSEKzLZjX",
        "outputId": "27a17033-b246-4e34-9aae-4fa6d51df988"
      },
      "outputs": [
        {
          "data": {
            "text/plain": [
              "'2021-07-11 07:07:05 UTC'"
            ]
          },
          "execution_count": 7,
          "metadata": {},
          "output_type": "execute_result"
        }
      ],
      "source": [
        "data['load_time'].max()"
      ]
    },
    {
      "cell_type": "markdown",
      "metadata": {
        "id": "qMpQv2uFah9p"
      },
      "source": [
        "- Ada apa saja tipe load sampah di kota Austin berdasarkan data"
      ]
    },
    {
      "cell_type": "code",
      "execution_count": 8,
      "metadata": {
        "colab": {
          "base_uri": "https://localhost:8080/"
        },
        "id": "at8AK1hDcVCf",
        "outputId": "c54507f4-48d1-4b38-94f5-3c15556bc536"
      },
      "outputs": [
        {
          "data": {
            "text/plain": [
              "array(['RECYCLING - SINGLE STREAM', 'RECYCLING - PAPER',\n",
              "       'RECYCLING - COMINGLE', 'SWEEPING', 'BRUSH', 'TIRES', 'BULK',\n",
              "       'RECYCLED METAL', 'YARD TRIMMING', 'MIXED LITTER',\n",
              "       'GARBAGE COLLECTIONS', 'ORGANICS', 'RECYCLING - PLASTIC BAGS',\n",
              "       'MULCH', 'LITTER', 'YARD TRIMMING - X-MAS TREES',\n",
              "       'CONTAMINATED RECYCLING', 'DEAD ANIMAL'], dtype=object)"
            ]
          },
          "execution_count": 8,
          "metadata": {},
          "output_type": "execute_result"
        }
      ],
      "source": [
        "#Tipe sampah pada kolom load_type\n",
        "data['load_type'].unique()"
      ]
    },
    {
      "cell_type": "code",
      "execution_count": 9,
      "metadata": {
        "colab": {
          "base_uri": "https://localhost:8080/",
          "height": 645
        },
        "id": "DbXrG69db7nX",
        "outputId": "2745d851-0c06-4f0c-e555-5c28e1dfdc76"
      },
      "outputs": [
        {
          "data": {
            "text/html": [
              "<div>\n",
              "<style scoped>\n",
              "    .dataframe tbody tr th:only-of-type {\n",
              "        vertical-align: middle;\n",
              "    }\n",
              "\n",
              "    .dataframe tbody tr th {\n",
              "        vertical-align: top;\n",
              "    }\n",
              "\n",
              "    .dataframe thead th {\n",
              "        text-align: right;\n",
              "    }\n",
              "</style>\n",
              "<table border=\"1\" class=\"dataframe\">\n",
              "  <thead>\n",
              "    <tr style=\"text-align: right;\">\n",
              "      <th></th>\n",
              "      <th>load_weight</th>\n",
              "    </tr>\n",
              "    <tr>\n",
              "      <th>load_type</th>\n",
              "      <th></th>\n",
              "    </tr>\n",
              "  </thead>\n",
              "  <tbody>\n",
              "    <tr>\n",
              "      <th>RECYCLING - PLASTIC BAGS</th>\n",
              "      <td>680.0</td>\n",
              "    </tr>\n",
              "    <tr>\n",
              "      <th>CONTAMINATED RECYCLING</th>\n",
              "      <td>6980.0</td>\n",
              "    </tr>\n",
              "    <tr>\n",
              "      <th>YARD TRIMMING - X-MAS TREES</th>\n",
              "      <td>7500.0</td>\n",
              "    </tr>\n",
              "    <tr>\n",
              "      <th>DEAD ANIMAL</th>\n",
              "      <td>9700.0</td>\n",
              "    </tr>\n",
              "    <tr>\n",
              "      <th>MULCH</th>\n",
              "      <td>18740.0</td>\n",
              "    </tr>\n",
              "    <tr>\n",
              "      <th>LITTER</th>\n",
              "      <td>28400.0</td>\n",
              "    </tr>\n",
              "    <tr>\n",
              "      <th>MIXED LITTER</th>\n",
              "      <td>54420.0</td>\n",
              "    </tr>\n",
              "    <tr>\n",
              "      <th>ORGANICS</th>\n",
              "      <td>82820.0</td>\n",
              "    </tr>\n",
              "    <tr>\n",
              "      <th>BULK</th>\n",
              "      <td>236660.0</td>\n",
              "    </tr>\n",
              "    <tr>\n",
              "      <th>RECYCLED METAL</th>\n",
              "      <td>370190.0</td>\n",
              "    </tr>\n",
              "    <tr>\n",
              "      <th>TIRES</th>\n",
              "      <td>3002758.0</td>\n",
              "    </tr>\n",
              "    <tr>\n",
              "      <th>BRUSH</th>\n",
              "      <td>3275810.0</td>\n",
              "    </tr>\n",
              "    <tr>\n",
              "      <th>YARD TRIMMING</th>\n",
              "      <td>8560222.0</td>\n",
              "    </tr>\n",
              "    <tr>\n",
              "      <th>GARBAGE COLLECTIONS</th>\n",
              "      <td>14257020.0</td>\n",
              "    </tr>\n",
              "    <tr>\n",
              "      <th>SWEEPING</th>\n",
              "      <td>29624017.0</td>\n",
              "    </tr>\n",
              "    <tr>\n",
              "      <th>RECYCLING - COMINGLE</th>\n",
              "      <td>101101409.0</td>\n",
              "    </tr>\n",
              "    <tr>\n",
              "      <th>RECYCLING - PAPER</th>\n",
              "      <td>141128780.0</td>\n",
              "    </tr>\n",
              "    <tr>\n",
              "      <th>RECYCLING - SINGLE STREAM</th>\n",
              "      <td>761531637.0</td>\n",
              "    </tr>\n",
              "  </tbody>\n",
              "</table>\n",
              "</div>"
            ],
            "text/plain": [
              "                             load_weight\n",
              "load_type                               \n",
              "RECYCLING - PLASTIC BAGS           680.0\n",
              "CONTAMINATED RECYCLING            6980.0\n",
              "YARD TRIMMING - X-MAS TREES       7500.0\n",
              "DEAD ANIMAL                       9700.0\n",
              "MULCH                            18740.0\n",
              "LITTER                           28400.0\n",
              "MIXED LITTER                     54420.0\n",
              "ORGANICS                         82820.0\n",
              "BULK                            236660.0\n",
              "RECYCLED METAL                  370190.0\n",
              "TIRES                          3002758.0\n",
              "BRUSH                          3275810.0\n",
              "YARD TRIMMING                  8560222.0\n",
              "GARBAGE COLLECTIONS           14257020.0\n",
              "SWEEPING                      29624017.0\n",
              "RECYCLING - COMINGLE         101101409.0\n",
              "RECYCLING - PAPER            141128780.0\n",
              "RECYCLING - SINGLE STREAM    761531637.0"
            ]
          },
          "execution_count": 9,
          "metadata": {},
          "output_type": "execute_result"
        }
      ],
      "source": [
        "#Menampilkan tipe sampah yang di buang berdasarkan jumlah datanya\n",
        "data.groupby(by='load_type')[['load_weight']].sum().sort_values(by='load_weight', ascending=True)"
      ]
    },
    {
      "cell_type": "markdown",
      "metadata": {
        "id": "fYGOwsS9bGp_"
      },
      "source": [
        "- Mengetahui tempat pembuangan sampah ada dimana saja"
      ]
    },
    {
      "cell_type": "code",
      "execution_count": 10,
      "metadata": {
        "colab": {
          "base_uri": "https://localhost:8080/"
        },
        "id": "L74pWpRKbJmT",
        "outputId": "75916c45-47b8-45ab-ffd6-24321a3f17cb"
      },
      "outputs": [
        {
          "data": {
            "text/plain": [
              "array(['MRF', 'ELMONT', 'KRAMER', 'WILCAB', 'ZILKER', 'CLARKSON',\n",
              "       'PARK BEND', 'TDS - MRF'], dtype=object)"
            ]
          },
          "execution_count": 10,
          "metadata": {},
          "output_type": "execute_result"
        }
      ],
      "source": [
        "data['dropoff_site'].unique()"
      ]
    },
    {
      "cell_type": "markdown",
      "metadata": {
        "id": "8kEzWDRkTIxU"
      },
      "source": [
        "### 3"
      ]
    },
    {
      "cell_type": "markdown",
      "metadata": {
        "id": "Fuc20hOvcpgI"
      },
      "source": [
        "**Nomor 3** : Berdasarkan central tendency (mean, median, dan modus) untuk masing-masing site, insight/informasi apa yang bisa kamu sampaikan kepada pemerintah kota? (Caution: Jangan gunakan pd.DataFrame.describe())"
      ]
    },
    {
      "cell_type": "code",
      "execution_count": 11,
      "metadata": {
        "id": "hJUv5guokcHz"
      },
      "outputs": [],
      "source": [
        "mrf = data.loc[data['dropoff_site']=='MRF', :]\n",
        "elmont = data.loc[data['dropoff_site']=='ELMONT', :]\n",
        "kramer = data.loc[data['dropoff_site']=='KRAMER', :]\n",
        "wilcab = data.loc[data['dropoff_site']=='WILCAB', :]\n",
        "zilker = data.loc[data['dropoff_site']=='ZILKER', :]\n",
        "clarkson = data.loc[data['dropoff_site']=='CLARKSON', :]\n",
        "park_bend = data.loc[data['dropoff_site']=='PARK BEND', :]\n",
        "tds_mrf = data.loc[data['dropoff_site']=='TDS - MRF', :]"
      ]
    },
    {
      "cell_type": "code",
      "execution_count": 12,
      "metadata": {
        "colab": {
          "base_uri": "https://localhost:8080/"
        },
        "id": "BMewCgonn72b",
        "outputId": "dc5e7715-3fd8-4d8b-c272-a66ecb9e9bb9"
      },
      "outputs": [
        {
          "name": "stdout",
          "output_type": "stream",
          "text": [
            "---Dropoff_site/Tempat Pembuangan Sampah di MRF---\n",
            "Min: 0.0\n",
            "Max: 27320.0\n",
            "Mode: 3460.0\n",
            "Median: 4260.0\n",
            "Mean: 5305.141835425384\n",
            "S.dev: 3674.733632630631\n",
            "\n",
            "---Dropoff_site/Tempat Pembuangan Sampah di ELMONT---\n",
            "Min: 5480.0\n",
            "Max: 31857.0\n",
            "Mode: 5800.0\n",
            "Median: 5800.0\n",
            "Mean: 5832.501367989056\n",
            "S.dev: 758.7406626917704\n",
            "\n",
            "---Dropoff_site/Tempat Pembuangan Sampah di KRAMER---\n",
            "Min: 3980.0\n",
            "Max: 19600.0\n",
            "Mode: 5800.0\n",
            "Median: 5800.0\n",
            "Mean: 5855.632911392405\n",
            "S.dev: 843.5269369673932\n",
            "\n",
            "---Dropoff_site/Tempat Pembuangan Sampah di WILCAB---\n",
            "Min: 2100.0\n",
            "Max: 24060.0\n",
            "Mode: 5800.0\n",
            "Median: 5800.0\n",
            "Mean: 5817.0660856935365\n",
            "S.dev: 473.15907586011605\n",
            "\n",
            "---Dropoff_site/Tempat Pembuangan Sampah di ZILKER---\n",
            "Min: 1000.0\n",
            "Max: 75000.0\n",
            "Mode: 15000.0\n",
            "Median: 7290.0\n",
            "Mean: 9316.125\n",
            "S.dev: 5512.316490097337\n",
            "\n",
            "---Dropoff_site/Tempat Pembuangan Sampah di CLARKSON---\n",
            "Min: 5800.0\n",
            "Max: 18640.0\n",
            "Mode: 5800.0\n",
            "Median: 5800.0\n",
            "Mean: 5833.264248704663\n",
            "S.dev: 653.5387925501254\n",
            "\n",
            "---Dropoff_site/Tempat Pembuangan Sampah di PARK BEND---\n",
            "Min: 3750.0\n",
            "Max: 20400.0\n",
            "Mode: 5500.0\n",
            "Median: 5500.0\n",
            "Mean: 7474.267676767677\n",
            "S.dev: 3826.5895307739133\n",
            "\n",
            "---Dropoff_site/Tempat Pembuangan Sampah di TDS - MRF---\n",
            "Min: -4480.0\n",
            "Max: 45305.0\n",
            "Mode: 12300.0\n",
            "Median: 10960.0\n",
            "Mean: 10116.689435016748\n",
            "S.dev: 4400.555739194268\n"
          ]
        }
      ],
      "source": [
        "print('---Dropoff_site/Tempat Pembuangan Sampah di MRF---')\n",
        "print ('Min: ' + str(mrf['load_weight'].min()))\n",
        "print ('Max: ' + str(mrf['load_weight'].max()))\n",
        "print ('Mode: ' + str(mrf['load_weight'].mode()[0]))\n",
        "print ('Median: ' + str(mrf['load_weight'].median()))\n",
        "print ('Mean: ' + str(mrf['load_weight'].mean()))\n",
        "print ('S.dev: ' + str(mrf['load_weight'].std()))\n",
        "print(      )\n",
        "print('---Dropoff_site/Tempat Pembuangan Sampah di ELMONT---')\n",
        "print ('Min: ' + str(elmont['load_weight'].min()))\n",
        "print ('Max: ' + str(elmont['load_weight'].max()))\n",
        "print ('Mode: ' + str(elmont['load_weight'].mode()[0]))\n",
        "print ('Median: ' + str(elmont['load_weight'].median()))\n",
        "print ('Mean: ' + str(elmont['load_weight'].mean()))\n",
        "print ('S.dev: ' + str(elmont['load_weight'].std()))\n",
        "print(      )\n",
        "print('---Dropoff_site/Tempat Pembuangan Sampah di KRAMER---')\n",
        "print ('Min: ' + str(kramer['load_weight'].min()))\n",
        "print ('Max: ' + str(kramer['load_weight'].max()))\n",
        "print ('Mode: ' + str(kramer['load_weight'].mode()[0]))\n",
        "print ('Median: ' + str(kramer['load_weight'].median()))\n",
        "print ('Mean: ' + str(kramer['load_weight'].mean()))\n",
        "print ('S.dev: ' + str(kramer['load_weight'].std()))\n",
        "print(      )\n",
        "print('---Dropoff_site/Tempat Pembuangan Sampah di WILCAB---')\n",
        "print ('Min: ' + str(wilcab['load_weight'].min()))\n",
        "print ('Max: ' + str(wilcab['load_weight'].max()))\n",
        "print ('Mode: ' + str(wilcab['load_weight'].mode()[0]))\n",
        "print ('Median: ' + str(wilcab['load_weight'].median()))\n",
        "print ('Mean: ' + str(wilcab['load_weight'].mean()))\n",
        "print ('S.dev: ' + str(wilcab['load_weight'].std()))\n",
        "print(      )\n",
        "print('---Dropoff_site/Tempat Pembuangan Sampah di ZILKER---')\n",
        "print ('Min: ' + str(zilker['load_weight'].min()))\n",
        "print ('Max: ' + str(zilker['load_weight'].max()))\n",
        "print ('Mode: ' + str(zilker['load_weight'].mode()[0]))\n",
        "print ('Median: ' + str(zilker['load_weight'].median()))\n",
        "print ('Mean: ' + str(zilker['load_weight'].mean()))\n",
        "print ('S.dev: ' + str(zilker['load_weight'].std()))\n",
        "print(      )\n",
        "print('---Dropoff_site/Tempat Pembuangan Sampah di CLARKSON---')\n",
        "print ('Min: ' + str(clarkson['load_weight'].min()))\n",
        "print ('Max: ' + str(clarkson['load_weight'].max()))\n",
        "print ('Mode: ' + str(clarkson['load_weight'].mode()[0]))\n",
        "print ('Median: ' + str(clarkson['load_weight'].median()))\n",
        "print ('Mean: ' + str(clarkson['load_weight'].mean()))\n",
        "print ('S.dev: ' + str(clarkson['load_weight'].std()))\n",
        "print(      )\n",
        "print('---Dropoff_site/Tempat Pembuangan Sampah di PARK BEND---')\n",
        "print ('Min: ' + str(park_bend['load_weight'].min()))\n",
        "print ('Max: ' + str(park_bend['load_weight'].max()))\n",
        "print ('Mode: ' + str(park_bend['load_weight'].mode()[0]))\n",
        "print ('Median: ' + str(park_bend['load_weight'].median()))\n",
        "print ('Mean: ' + str(park_bend['load_weight'].mean()))\n",
        "print ('S.dev: ' + str(park_bend['load_weight'].std()))\n",
        "print(      )\n",
        "print('---Dropoff_site/Tempat Pembuangan Sampah di TDS - MRF---')\n",
        "print ('Min: ' + str(tds_mrf['load_weight'].min()))\n",
        "print ('Max: ' + str(tds_mrf['load_weight'].max()))\n",
        "print ('Mode: ' + str(tds_mrf['load_weight'].mode()[0]))\n",
        "print ('Median: ' + str(tds_mrf['load_weight'].median()))\n",
        "print ('Mean: ' + str(tds_mrf['load_weight'].mean()))\n",
        "print ('S.dev: ' + str(tds_mrf['load_weight'].std()))"
      ]
    },
    {
      "cell_type": "markdown",
      "metadata": {
        "id": "wLseUiVXIcer"
      },
      "source": [
        "Interpretasi Statistika Deskriptif Data Lokasi/Tempat Pembuangan sampah:\n",
        "\n",
        "1. MRF : Rata-rata sampah yang dibuang pada tempat pembuangan MRF sebesar 5305 dengan nilai tengah(Q2) sebesar 4260, nilai rata-rata dan nilai tengah saling berjauhan, hal ini menandakan bahwa sampah yang dibuang pada lokasi MRF tidak berada dalam distribusi normal. Berat sampah yang sering dibuang pada lokasi MRF atau modus sebesar 3460. Jumlah sampah yang dibuang pada lokasi MRF paling sedikit/terendah adalah 0 dan paling banyak/tertinggi adalah 27320. Pembuangan sampah pada lokasi MRF memiliki nilai standar deviasi sebesar 3675, yang berarti sebaran sampel data jauh dari rata-rata nilai sampel itu sendiri atau 3675 data outlier.\n",
        "\n",
        "2. ELMONT : Rata-rata sampah yang dibuang pada tempat pembuangan ELMONT sebesar 5832 dengan nilai tengah(Q2) sebesar 5800, nilai rata-rata dan nilai tengah saling berdekatan, hal ini menandakan bahwa sampah yang dibuang pada lokasi ELMONT berada dalam distribusi normal. Berat sampah yang sering dibuang pada lokasi ELMONT atau modus sebesar 5800. Jumlah sampah yang dibuang pada lokasi ELMONT paling sedikit/terendah adalah 5480 dan paling banyak/tertinggi adalah 31875. Pembuangan sampah pada lokasi ELMONT memiliki nilai standar deviasi sebesar 759, yang berarti sebaran sampel data jauh dari rata-rata nilai sampel itu sendiri atau 759 data outlier.\n",
        "\n",
        "3. KRAMER : Rata-rata sampah yang dibuang pada tempat pembuangan KRAMER sebesar 5855 dengan nilai tengah(Q2) sebesar 5800, nilai rata-rata dan nilai tengah saling berdekatan, hal ini menandakan bahwa sampah yang dibuang pada lokasi KRAMER berada dalam distribusi normal. Berat sampah yang sering dibuang pada lokasi KRAMER atau modus sebesar 5800. Jumlah sampah yang dibuang pada lokasi KRAMER paling sedikit/terendah adalah 3980 dan paling banyak/tertinggi adalah 19600. Pembuangan sampah pada lokasi KRAMER memiliki nilai standar deviasi sebesar 843, yang berarti sebaran sampel data jauh dari rata-rata nilai sampel itu sendiri atau 843 data outlier.\n",
        "\n",
        "4. WILCAB : Rata-rata sampah yang dibuang pada tempat pembuangan WILCAB sebesar 5817 dengan nilai tengah(Q2) sebesar 5800, nilai rata-rata dan nilai tengah saling berdekatan, hal ini menandakan bahwa sampah yang dibuang pada lokasi WILCAB berada dalam distribusi normal. Berat sampah yang sering dibuang pada lokasi WILCAB atau modus sebesar 5800. Jumlah sampah yang dibuang pada lokasi WILCAB paling sedikit/terendah adalah 2100 dan paling banyak/tertinggi adalah 24060. Pembuangan sampah pada lokasi WILCAB memiliki nilai standar deviasi sebesar 473, yang berarti sebaran sampel data jauh dari rata-rata nilai sampel itu sendiri atau 473 data outlier.\n",
        "\n",
        "5. ZILKER : Rata-rata sampah yang dibuang pada tempat pembuangan ZILKER sebesar 9316 dengan nilai tengah(Q2) sebesar 7290, nilai rata-rata dan nilai tengah saling berjauhan, hal ini menandakan bahwa sampah yang dibuang pada lokasi ZILKER tidak berada dalam distribusi normal. Berat sampah yang sering dibuang pada lokasi ZILKER atau modus sebesar 15000. Jumlah sampah yang dibuang pada lokasi ZILKER paling sedikit/terendah adalah 1000 dan paling banyak/tertinggi adalah 75000. Pembuangan sampah pada lokasi ZILKER memiliki nilai standar deviasi sebesar 5512, yang berarti sebaran sampel data jauh dari rata-rata nilai sampel itu sendiri atau 5512 data outlier.\n",
        "\n",
        "6. CLARKSON : Rata-rata sampah yang dibuang pada tempat pembuangan CLARKSON sebesar 5833 dengan nilai tengah(Q2) sebesar 5800, nilai rata-rata dan nilai tengah saling berdekatan, hal ini menandakan bahwa sampah yang dibuang pada lokasi CLARKSON berada dalam distribusi normal. Berat sampah yang sering dibuang pada lokasi CLARKSON atau modus sebesar 5800. Jumlah sampah yang dibuang pada lokasi CLARKSON paling sedikit/terendah adalah 5800 dan paling banyak/tertinggi adalah 18640. Pembuangan sampah pada lokasi CLARKSON memiliki nilai standar deviasi sebesar 653, yang berarti sebaran sampel data jauh dari rata-rata nilai sampel itu sendiri atau 653 data outlier.\n",
        "\n",
        "7. PARK BEND : Rata-rata sampah yang dibuang pada tempat pembuangan PARK BEND sebesar 7474 dengan nilai tengah(Q2) sebesar 5500, nilai rata-rata dan nilai tengah saling berjauhan, hal ini menandakan bahwa sampah yang dibuang pada lokasi PARK BEND tidak berada dalam distribusi normal. Berat sampah yang sering dibuang pada lokasi PARK BEND atau modus sebesar 5500. Jumlah sampah yang dibuang pada lokasi PARK BEND paling sedikit/terendah adalah 3750 dan paling banyak/tertinggi adalah 20400. Pembuangan sampah pada lokasi PARK BEND memiliki nilai standar deviasi sebesar 3826, yang berarti sebaran sampel data jauh dari rata-rata nilai sampel itu sendiri atau 3826 data outlier.\n",
        "\n",
        "8. TDS_MRF : Rata-rata sampah yang dibuang pada tempat pembuangan TDS_MRF sebesar 10116 dengan nilai tengah(Q2) sebesar 10960, nilai rata-rata dan nilai tengah saling berjauhan, hal ini menandakan bahwa sampah yang dibuang pada lokasi TDS_MRF tidak berada dalam distribusi normal. Berat sampah yang sering dibuang pada lokasi TDS_MRF atau modus sebesar 12300. Jumlah sampah yang dibuang pada lokasi TDS_MRF paling sedikit/terendah adalah -4480 dan paling banyak/tertinggi adalah 45305. Pembuangan sampah pada lokasi TDS_MRF memiliki nilai standar deviasi sebesar 4400, yang berarti sebaran sampel data jauh dari rata-rata nilai sampel itu sendiri atau 4400 data outlier."
      ]
    },
    {
      "cell_type": "markdown",
      "metadata": {
        "id": "hl8rax9fUA2e"
      },
      "source": [
        "Informasi statistika deskriptif atau central tendency (mean, median, dan modus) tempat pembuangan sampah, untuk evaluasi bagi pemerintah kota Austin :\n",
        "\n",
        "1. Rata-rata sebagai bilangan yang mewakili sekumpulan data keseluruhan berat sampah pada masing-masing lokasi akhir pembuangan. Berdasarkan analisis statistika deskriptif bahwa nilai rata-rata lokasi pembuangan TDS_MRF paling tinggi sebesar 10116 dan disusul lokasi Ziker sebesar 9316, menunjukkan bahwa sekumpulan data berat sampah terlalu banyak dibuang pada lokasi TDS_MRF dan ZIKER. **Hal ini bisa menjadi evaluasi bagi pemerintah kota Austin untuk lebih memporsir atau membagi secara keseuruhan pembuangan akhir sampah yang akan dibuang pada lokasi TDS_MRF dan ZIKER, untuk di ahlihkan kelokasi pembuangan sampah lainnya. Sehingga berat sampah bisa terbuang secara merata di setiap lokasi akhir pembuangan dan tidak menumpuk di lokasi pembuangan TDS_MRF atau ZIKET SAJA.**\n",
        "\n",
        "2. Rata-rata terendah menunjukan bilangan yang mewakili sekumpulan data keseluruhan berat sampah pada masing-masing lokasi akhir pembuangan, dikategorikan menampung jumlah berat sampah yang sedikit. Berdasarkan analisis statistika deskriptif bahwa nilai rata-rata lokasi pembuangan MRF paling rendah sebesar 5305, menunjukkan bahwa sekumpulan data berat sampah masing sedikit menampung atau masih bisa menerima kiriman berat sampah pada lokasi MRF. **Hal ini bisa menjadi evaluasi bagi pemerintah kota Austin, bahwa lokasi akhir pembuangan MRF masing sanggup menampung kiriman berat sampah dari lokasi pembuangan lainnya. Sehingga berat sampah yang tertumpuk dilokasi lain bisa di ahlikan ke lokasi pembuangan MRF.**\n",
        "\n",
        "3. Modus sebagai bilangan yang menujukkan nilai frekuensi tertinggi atau nilai yang paling sering muncul dalam kelompok data. Berdasarkan analisis statistika deskriptif bahwa kisaran berat sampah yang sering dibuang sebesar 15000 berada pada Lokasi akhir pembuangan ZIKER. **Hal ini bisa menjadi evaluasi bagi pemerintah kota Austin untuk mengurangi berat sampah yang sering di tampung lokasi ZILKER. Berat sampah yang sering dibuang sebesar 15000 mungkin bisa diubah menjadi lebih rendah beratnya agar sistem pengolahan dan pembuangan, tidak terlalu berkerjanya keras dalam membersihkan sampah kiriman, sehingga sistem pembuangan dan pengolahan lokasi ZIKER tetap berjalan dengan baik.**\n",
        "\n",
        "Berdasarkan hasil evaluasi sistem pembuangan dan pengelolahan sampah di kota austin, bahwa masing-masing lokasi akhir penampugan harus merata dalam menampung berbagai tipe sampah kiriman atau berat sampah, agar masing-masing lokasi bisa berkerja secara optimal."
      ]
    },
    {
      "cell_type": "markdown",
      "metadata": {
        "id": "8EWkyQUwTM2k"
      },
      "source": [
        "### 4"
      ]
    },
    {
      "cell_type": "markdown",
      "metadata": {
        "id": "hy0po5Nyl3fJ"
      },
      "source": [
        "**Nomor 4** : Pilih site yang paling menarik perhatian kamu, dan berikan alasannya.\n",
        "\n",
        "Jawab : Setelah di lakukan analisis statistika deskriptif pada langkah ke 3 saya memilih site **WILCAB**, alasannya karena lokasi WILCAB memiliki rata-rata berat sampah yang tertampung sebesar 5817 dan median sebesar 5800 saling berdekatan atau hampir sama. Serta memiliki nilai standar deviasi sebesar 473 yang jauh dari kumpulan sampel, dimana nilai tersebut terbilang lebih kecil di antara lokasi pembuangan lainnya. Berdasarkan pertimbangan tersebut saya akan menggunakan site WIlCAB sebagai data yang digunakan untuk analisis selanjutnya."
      ]
    },
    {
      "cell_type": "markdown",
      "metadata": {
        "id": "G7S-flwcTO8U"
      },
      "source": [
        "### 5"
      ]
    },
    {
      "cell_type": "markdown",
      "metadata": {
        "id": "xA2jJ5VlmLvo"
      },
      "source": [
        "**Nomor 5** : Gunakan site yang kamu pilih untuk dicek apakah data load_weight ada outlier atau tidak. Gunakan teknik yang tepat sesuai dengan distribusi dari datanya!. Jika iya, berapa persen jumlah outliernya? dan bandingkan central tendency data yang telah dikeluarkan outliernya dengan yang belum (hasil dari perhitungan nomor 3)."
      ]
    },
    {
      "cell_type": "code",
      "execution_count": 13,
      "metadata": {
        "colab": {
          "base_uri": "https://localhost:8080/",
          "height": 748
        },
        "id": "ggwqnRG1SccK",
        "outputId": "39a4ce76-f620-41ce-b3b0-32b7f098a5cb"
      },
      "outputs": [
        {
          "data": {
            "image/png": "[encoded data removed]",
            "text/plain": [
              "<Figure size 720x576 with 1 Axes>"
            ]
          },
          "metadata": {
            "needs_background": "light"
          },
          "output_type": "display_data"
        },
        {
          "data": {
            "image/png": "[encoded data removed]",
            "text/plain": [
              "<Figure size 432x288 with 1 Axes>"
            ]
          },
          "metadata": {
            "needs_background": "light"
          },
          "output_type": "display_data"
        }
      ],
      "source": [
        "#VISUALISASI DATA ASLI BERAT SAMPAH LOKASI WILCAB\n",
        "\n",
        "# Visualization of Box Plot of Grade\n",
        "\n",
        "%matplotlib inline\n",
        "import pandas as pd\n",
        "import matplotlib.pyplot as plt\n",
        "import numpy as np\n",
        "import scipy.stats as stats\n",
        "\n",
        "# Plot a box-whisker chart\n",
        "wilcab['load_weight'].plot(kind='box', title='Distribusi Berat Sampah di Lokasi WILCAB', figsize=(10,8))\n",
        "plt.show()\n",
        "\n",
        "# Visualization of Distribution\n",
        "Distribusi = wilcab['load_weight']\n",
        "density = stats.gaussian_kde(Distribusi)\n",
        "n, x, _ = plt.hist(Distribusi, histtype='step', bins=25, density = True)  \n",
        "plt.plot(x, density(x)*2**7.5)\n",
        "plt.axvline(Distribusi.mean(), color='magenta', linestyle='dashed', linewidth=3)\n",
        "plt.axvline(Distribusi.median(), color='green', linestyle='dashed', linewidth=2)\n",
        "plt.show()"
      ]
    },
    {
      "cell_type": "code",
      "execution_count": 14,
      "metadata": {
        "colab": {
          "base_uri": "https://localhost:8080/",
          "height": 334
        },
        "id": "gjR3VgCbPpSB",
        "outputId": "7d993dd4-ad5f-460e-c415-573bb858887a"
      },
      "outputs": [
        {
          "name": "stdout",
          "output_type": "stream",
          "text": [
            "load_weight skewness: 28.681860027738576\n",
            "load_weight kurtosis: 968.8811963245824\n"
          ]
        },
        {
          "data": {
            "image/png": "[encoded data removed]",
            "text/plain": [
              "<Figure size 432x288 with 1 Axes>"
            ]
          },
          "metadata": {
            "needs_background": "light"
          },
          "output_type": "display_data"
        },
        {
          "name": "stdout",
          "output_type": "stream",
          "text": [
            "\n",
            "\n"
          ]
        }
      ],
      "source": [
        "# Dapatkan Nilai Skewness dan Kurtosis\n",
        "\n",
        "%matplotlib inline\n",
        "import pandas as pd\n",
        "import numpy as np\n",
        "from matplotlib import pyplot as plt\n",
        "import scipy.stats as stats\n",
        "\n",
        "kemiringan = ['load_weight']\n",
        "for col in kemiringan:\n",
        "    print(wilcab[col].name + ' skewness: ' + str(wilcab[col].skew()))\n",
        "    print(wilcab[col].name + ' kurtosis: ' + str(wilcab[col].kurt()))\n",
        "    n, x, _ = plt.hist(wilcab[col], histtype='step', bins=25, density = True)\n",
        "    plt.plot(x, density(x)*6)\n",
        "    plt.show()\n",
        "    print('\\n')"
      ]
    },
    {
      "cell_type": "markdown",
      "metadata": {
        "id": "NuJGEZZsawoc"
      },
      "source": [
        "Boxplot : Sebuah kotak persegi panjang yang menunjukkan letak data antara persentil ke-25 dan ke-75 (kuartil pertama dan ketiga). Garis dalam kotak yang menunjukkan lokasi median (persentil ke-50 atau kuartil kedua). Dalam hal ini, dapat melihat bahwa **rentang interkuartil adalah antara 5800 dan 5800, dengan median sama seperti kuartil adalah 5800, lebih dekat ke bagian rata-rata adalah 5817, sehingga membentuk kontak persegi sama sisi namun terdapat beberapa titik data di luar sdari persegi boxplot.** Berdasarkan visualisasi bentuk boxplot lokasi WILCAB, **bahwa terdapat beberapa nilai data berada di luar kategorikan himpunan atau data outlier**.\n",
        "\n",
        "----\n",
        "Visualisasi Distribusi : Kali ini, distribusinya simetris, membentuk kurva \"berbentuk lonceng\". <span style=\"color:magenta\">***mean***</span>, <span style=\"color:green\">***median***</span>, **dan mode berada di lokasi yang berdekatan tetapi tidak menyebar secara merata di kedua sisi dari puncak pusat.** Berdasarkan visualisasi distribusi lokasi akhir pembuangan sampah di WILCAB, bahwa data bisa di kategorikan tidak berdistribusi normal.\n",
        "\n",
        "---\n",
        "Ukuran Kemiringan dan Kurtosis : Cara lain pendeteksian distribusi bisa dengan mengukur *kecondongan* (ke arah mana data dimiringkan dan sejauh mana) dan kurtosis (seberapa \"puncak\" data) untuk mendapatkan gambaran tentang bentuk distribusi data. **Nilai skewness adalah 29**. Berdasarkan nilai  koefisien kemiringan nya bernilai 29 yang tidak berada di antara rasio skewness -2 sampai 2, maka bentuk distribusinya tidak simetrik atau tidak berdistribusi normal.\n",
        "\n",
        "Setelah dilakukan pengecekan distribusi normal dengan 3 cara pembuktian, yang membuktikan bahwa sekumpulan data berat dilokasi WILCAB tidak berdistribusi normal. Selanjutnya akan dilakukan pengecekan data outlier site WILCAB :"
      ]
    },
    {
      "cell_type": "markdown",
      "metadata": {
        "id": "Cugk9BxZKRsR"
      },
      "source": [
        "Pendeteksian Nilai Outlier\n",
        "\n",
        "Metode untuk mengecek nilai oulier bisa mengunakan Tukey dengan ringkasan 5 angka untuk mendeteksi outlier. Intinya adalah bahwa data yang menyimpang dari median di atas ambang batas tertentu akan ditandai sebagai outlier. Rumus untuk deteksi outlier Tukey\n",
        "\n",
        "${q_{3}+1.5*IQR}$\n",
        "\n",
        "${q_{1}-1.5*IQR}$"
      ]
    },
    {
      "cell_type": "code",
      "execution_count": 35,
      "metadata": {
        "id": "T8UEHKWvU6HR"
      },
      "outputs": [],
      "source": [
        "Q1 = wilcab['load_weight'].quantile(0.25)\n",
        "Q3 = wilcab['load_weight'].quantile(0.75)\n",
        "IQR = Q3-Q1"
      ]
    },
    {
      "cell_type": "markdown",
      "metadata": {
        "id": "8LeUH_yMMYXg"
      },
      "source": [
        "setelah diperoleh nilai IQR dilakukan pembersihan data outlier dengan menggunakan niai quartile, untuk menghilangkan data oulier akan digunakan metode Z Score sebagai penganti aturan Tukey."
      ]
    },
    {
      "cell_type": "code",
      "execution_count": 36,
      "metadata": {
        "colab": {
          "base_uri": "https://localhost:8080/",
          "height": 583
        },
        "id": "g7R-i7hCVZB6",
        "outputId": "23271a09-d459-4cdb-d63c-1f71b92bf4e1"
      },
      "outputs": [
        {
          "data": {
            "text/html": [
              "<div>\n",
              "<style scoped>\n",
              "    .dataframe tbody tr th:only-of-type {\n",
              "        vertical-align: middle;\n",
              "    }\n",
              "\n",
              "    .dataframe tbody tr th {\n",
              "        vertical-align: top;\n",
              "    }\n",
              "\n",
              "    .dataframe thead th {\n",
              "        text-align: right;\n",
              "    }\n",
              "</style>\n",
              "<table border=\"1\" class=\"dataframe\">\n",
              "  <thead>\n",
              "    <tr style=\"text-align: right;\">\n",
              "      <th></th>\n",
              "      <th>load_type</th>\n",
              "      <th>load_time</th>\n",
              "      <th>load_weight</th>\n",
              "      <th>dropoff_site</th>\n",
              "    </tr>\n",
              "  </thead>\n",
              "  <tbody>\n",
              "    <tr>\n",
              "      <th>91403</th>\n",
              "      <td>SWEEPING</td>\n",
              "      <td>2008-11-21 10:00:00 UTC</td>\n",
              "      <td>5800.0</td>\n",
              "      <td>WILCAB</td>\n",
              "    </tr>\n",
              "    <tr>\n",
              "      <th>91404</th>\n",
              "      <td>SWEEPING</td>\n",
              "      <td>2005-08-22 12:15:00 UTC</td>\n",
              "      <td>5800.0</td>\n",
              "      <td>WILCAB</td>\n",
              "    </tr>\n",
              "    <tr>\n",
              "      <th>91405</th>\n",
              "      <td>SWEEPING</td>\n",
              "      <td>2008-10-01 12:04:00 UTC</td>\n",
              "      <td>5800.0</td>\n",
              "      <td>WILCAB</td>\n",
              "    </tr>\n",
              "    <tr>\n",
              "      <th>91406</th>\n",
              "      <td>SWEEPING</td>\n",
              "      <td>2006-12-11 09:55:00 UTC</td>\n",
              "      <td>5800.0</td>\n",
              "      <td>WILCAB</td>\n",
              "    </tr>\n",
              "    <tr>\n",
              "      <th>91407</th>\n",
              "      <td>SWEEPING</td>\n",
              "      <td>2005-08-23 03:00:00 UTC</td>\n",
              "      <td>5800.0</td>\n",
              "      <td>WILCAB</td>\n",
              "    </tr>\n",
              "    <tr>\n",
              "      <th>...</th>\n",
              "      <td>...</td>\n",
              "      <td>...</td>\n",
              "      <td>...</td>\n",
              "      <td>...</td>\n",
              "    </tr>\n",
              "    <tr>\n",
              "      <th>94152</th>\n",
              "      <td>SWEEPING</td>\n",
              "      <td>2008-06-03 10:00:00 UTC</td>\n",
              "      <td>5800.0</td>\n",
              "      <td>WILCAB</td>\n",
              "    </tr>\n",
              "    <tr>\n",
              "      <th>94153</th>\n",
              "      <td>SWEEPING</td>\n",
              "      <td>2009-11-19 09:00:00 UTC</td>\n",
              "      <td>5800.0</td>\n",
              "      <td>WILCAB</td>\n",
              "    </tr>\n",
              "    <tr>\n",
              "      <th>94154</th>\n",
              "      <td>SWEEPING</td>\n",
              "      <td>2006-05-22 12:00:00 UTC</td>\n",
              "      <td>5800.0</td>\n",
              "      <td>WILCAB</td>\n",
              "    </tr>\n",
              "    <tr>\n",
              "      <th>94155</th>\n",
              "      <td>SWEEPING</td>\n",
              "      <td>2006-05-18 12:30:00 UTC</td>\n",
              "      <td>5800.0</td>\n",
              "      <td>WILCAB</td>\n",
              "    </tr>\n",
              "    <tr>\n",
              "      <th>94156</th>\n",
              "      <td>SWEEPING</td>\n",
              "      <td>2008-10-30 11:30:00 UTC</td>\n",
              "      <td>5800.0</td>\n",
              "      <td>WILCAB</td>\n",
              "    </tr>\n",
              "  </tbody>\n",
              "</table>\n",
              "<p>2745 rows × 4 columns</p>\n",
              "</div>"
            ],
            "text/plain": [
              "      load_type                load_time  load_weight dropoff_site\n",
              "91403  SWEEPING  2008-11-21 10:00:00 UTC       5800.0       WILCAB\n",
              "91404  SWEEPING  2005-08-22 12:15:00 UTC       5800.0       WILCAB\n",
              "91405  SWEEPING  2008-10-01 12:04:00 UTC       5800.0       WILCAB\n",
              "91406  SWEEPING  2006-12-11 09:55:00 UTC       5800.0       WILCAB\n",
              "91407  SWEEPING  2005-08-23 03:00:00 UTC       5800.0       WILCAB\n",
              "...         ...                      ...          ...          ...\n",
              "94152  SWEEPING  2008-06-03 10:00:00 UTC       5800.0       WILCAB\n",
              "94153  SWEEPING  2009-11-19 09:00:00 UTC       5800.0       WILCAB\n",
              "94154  SWEEPING  2006-05-22 12:00:00 UTC       5800.0       WILCAB\n",
              "94155  SWEEPING  2006-05-18 12:30:00 UTC       5800.0       WILCAB\n",
              "94156  SWEEPING  2008-10-30 11:30:00 UTC       5800.0       WILCAB\n",
              "\n",
              "[2745 rows x 4 columns]"
            ]
          },
          "execution_count": 36,
          "metadata": {},
          "output_type": "execute_result"
        }
      ],
      "source": [
        "# Pembersihan data Outlier\n",
        "wilcab2 = wilcab[~(((wilcab['load_weight'] < (Q1-1.5*IQR)) | (wilcab['load_weight'] > (Q3+1.5*IQR))))]\n",
        "wilcab2 "
      ]
    },
    {
      "cell_type": "markdown",
      "metadata": {
        "id": "VH65NQEiZ4WM"
      },
      "source": [
        "Berdasarkan Z-Score dengan drop data baik lower value maupun upper value nya sudah tidak ada nilai kosang, **dapat terlihat bahwa data ini tidak memiliki outlier lagi**."
      ]
    },
    {
      "cell_type": "code",
      "execution_count": 39,
      "metadata": {
        "colab": {
          "base_uri": "https://localhost:8080/",
          "height": 761
        },
        "id": "glSQ6qpXWlEm",
        "outputId": "f51b633d-304e-4fae-db46-d0e4582d4811"
      },
      "outputs": [
        {
          "data": {
            "image/png": "[encoded data removed]",
            "text/plain": [
              "<Figure size 720x576 with 1 Axes>"
            ]
          },
          "metadata": {
            "needs_background": "light"
          },
          "output_type": "display_data"
        },
        {
          "data": {
            "image/png": "[encoded data removed]",
            "text/plain": [
              "<Figure size 432x288 with 1 Axes>"
            ]
          },
          "metadata": {
            "needs_background": "light"
          },
          "output_type": "display_data"
        }
      ],
      "source": [
        "#VISUALISASI DATA ASLI BERAT SAMPAH LOKASI WILCAB TANPA OUTLIER\n",
        "\n",
        "%matplotlib inline\n",
        "import pandas as pd\n",
        "import matplotlib.pyplot as plt\n",
        "import numpy as np\n",
        "import scipy.stats as stats\n",
        "\n",
        "# Plot a box-whisker chart\n",
        "wilcab2['load_weight'].plot(kind='box', title='Distribusi Berat Sampah di Lokasi WILCAB', figsize=(10,8))\n",
        "plt.show()\n",
        "\n",
        "# Visualization of Distribution\n",
        "Distribusi2 = wilcab2['load_weight']\n",
        "density = stats.gaussian_kde(Distribusi2)\n",
        "n, x, _ = plt.hist(Distribusi2, histtype='step', bins=25, density = True)  \n",
        "plt.plot(x, density(x)*2**7.5)\n",
        "plt.axvline(Distribusi2.mean(), color='magenta', linestyle='dashed', linewidth=3)\n",
        "plt.axvline(Distribusi2.median(), color='green', linestyle='dashed', linewidth=2)\n",
        "plt.show()"
      ]
    },
    {
      "cell_type": "code",
      "execution_count": 40,
      "metadata": {
        "colab": {
          "base_uri": "https://localhost:8080/",
          "height": 347
        },
        "id": "0xcChxqGmXMP",
        "outputId": "a08a1445-b7a6-440d-9a38-b283d55aacb7"
      },
      "outputs": [
        {
          "name": "stdout",
          "output_type": "stream",
          "text": [
            "load_weight skewness: 0\n",
            "load_weight kurtosis: 0\n"
          ]
        },
        {
          "data": {
            "image/png": "[encoded data removed]",
            "text/plain": [
              "<Figure size 432x288 with 1 Axes>"
            ]
          },
          "metadata": {
            "needs_background": "light"
          },
          "output_type": "display_data"
        },
        {
          "name": "stdout",
          "output_type": "stream",
          "text": [
            "\n",
            "\n"
          ]
        }
      ],
      "source": [
        "# Dapatkan Nilai Skewness dan Kurtosis\n",
        "\n",
        "%matplotlib inline\n",
        "import pandas as pd\n",
        "import numpy as np\n",
        "from matplotlib import pyplot as plt\n",
        "import scipy.stats as stats\n",
        "\n",
        "kemiringan = ['load_weight']\n",
        "for col in kemiringan:\n",
        "    print(wilcab2[col].name + ' skewness: ' + str(wilcab2[col].skew()))\n",
        "    print(wilcab2[col].name + ' kurtosis: ' + str(wilcab2[col].kurt()))\n",
        "    n, x, _ = plt.hist(wilcab2[col], histtype='step', bins=25, density = True)\n",
        "    plt.plot(x, density(x)*10)\n",
        "    plt.show()\n",
        "    print('\\n')"
      ]
    },
    {
      "cell_type": "markdown",
      "metadata": {
        "id": "jUm_IlF3MlHY"
      },
      "source": [
        "Boxplot : Sebuah kotak persegi panjang yang menunjukkan letak data antara persentil ke-25 dan ke-75 (kuartil pertama dan ketiga). Garis dalam kotak yang menunjukkan lokasi median (persentil ke-50 atau kuartil kedua). Dalam hal ini, dapat melihat bahwa **rentang interkuartil adalah antara 5800 dan 5800, dengan median sama seperti kuartil adalah 5800, lebih dekat ke bagian rata-rata adalah 5817, Sehingga membentuk kontak yang presisis sama atau persegi sama sisi**. Berdasarkan visualisasi bentuk boxplot lokasi WILCAB, **bahwa data bisa di kategorikan berdistribusi Normal karena tidak ada data yang menyeber diluar persegi boxplot**.\n",
        "\n",
        "----\n",
        "Visualisasi Distribusi : Kali ini, distribusinya simetris, membentuk kurva \"berbentuk lonceng\". <span style=\"color:magenta\">***mean***</span>, <span style=\"color:green\">***median***</span>, **dan mode adalah di lokasi yang sama, dan data menyebar secara merata di kedua sisi dari puncak pusat.** Berdasarkan visualisasi distribusi lokasi akhir pembuangan sampah di WILCAB, **bahwa data bisa di kategorikan berdistribusi normal (atau terkadang distribusi *Gaussian*)**.\n",
        "\n",
        "---\n",
        "Ukuran Kemiringan dan Kurtosis : Cara lain pendeteksian distribusi bisa dengan mengukur *kecondongan* (ke arah mana data dimiringkan dan sejauh mana) dan kurtosis (seberapa \"puncak\" data) untuk mendapatkan gambaran tentang bentuk distribusi data. **Nilai skewness dan kurtosis adalah 0**. Berdasarkan nilai  koefisien kemiringan nya bernilai nol yang berarti ada di antara rasio skewness -2 sampai 2,**maka bentuk distribusinya simetrik atau berdistribusi normal**.\n"
      ]
    },
    {
      "cell_type": "code",
      "execution_count": 41,
      "metadata": {
        "colab": {
          "base_uri": "https://localhost:8080/"
        },
        "id": "AFHMPkK0d5ti",
        "outputId": "4962b135-4fb0-453f-9e7a-803647be1803"
      },
      "outputs": [
        {
          "name": "stdout",
          "output_type": "stream",
          "text": [
            "---Dropoff_site/Tempat Pembuangan Sampah di WILCAB dengan data outlier---\n",
            "Mode: 5800.0\n",
            "Median: 5800.0\n",
            "Mean: 5817.0660856935365\n",
            "S.dev: 473.15907586011605\n",
            "\n",
            "---Dropoff_site/Tempat Pembuangan Sampah di WILCAB yang sudah tidak ada data outlier---\n",
            "Mode: 5800.0\n",
            "Median: 5800.0\n",
            "Mean: 5800.0\n",
            "S.dev: 0.0\n"
          ]
        }
      ],
      "source": [
        "print('---Dropoff_site/Tempat Pembuangan Sampah di WILCAB dengan data outlier---')\n",
        "print ('Mode: ' + str(wilcab['load_weight'].mode()[0]))\n",
        "print ('Median: ' + str(wilcab['load_weight'].median()))\n",
        "print ('Mean: ' + str(wilcab['load_weight'].mean()))\n",
        "print ('S.dev: ' + str(wilcab['load_weight'].std()))\n",
        "print(   )\n",
        "print('---Dropoff_site/Tempat Pembuangan Sampah di WILCAB yang sudah tidak ada data outlier---')\n",
        "print ('Mode: ' + str(wilcab2['load_weight'].mode()[0]))\n",
        "print ('Median: ' + str(wilcab2['load_weight'].median()))\n",
        "print ('Mean: ' + str(wilcab2['load_weight'].mean()))\n",
        "print ('S.dev: ' + str(wilcab2['load_weight'].std()))"
      ]
    },
    {
      "cell_type": "markdown",
      "metadata": {
        "id": "SKdPsKV7SQVp"
      },
      "source": [
        "Jika iya, berapa persen jumlah outliernya? Berdasarkan metode pengecekan data yang menjauh dari rata-rata sampel mengunakan standar deviasi bahwa nilai outlier sebanyak 473 dari 2754 baris, bahwa terdapat outlier sekitar 2,1% dari data keseluruhan berat sampah pada lokasi/site WILCAB.\n",
        "\n",
        "Bandingkan central tendency data yang telah dikeluarkan outliernya dengan yang belum!? centar tendency sebelum dikeluarkan data outlier berat sampah di lokasi WILCAB memiliki rata-rata sebesar 5817, median sebesar 5800, modus sebesar 5800 dan standar deviasi sebesar 473. Sedangkan centar tendency setelah dikeluarkan data outlier berat sampah di lokasi WILCAB memiliki rata-rata, median dan modus yang sama yaitu 5800 menandakan bahwa data wilcab2 berada dalam satu himpunan variabel yang sama, dengan standar deviasi bernilai nol atau tidak ada data yang menjauhi rata-rata sampel."
      ]
    },
    {
      "cell_type": "markdown",
      "metadata": {
        "id": "wOC4QiUUTUvz"
      },
      "source": [
        "### 6"
      ]
    },
    {
      "cell_type": "markdown",
      "metadata": {
        "id": "zesxcowneNsY"
      },
      "source": [
        "**Nomor 6**: Gunakan site yang telah kamu pilih untuk dihitung range, variance, dan standar deviasi untuk data load_weight. Berikan insight dari hasil perhitunganmu kepada pemerintah kota (Pastikan data yang digunakan adalah data yang sudah dibersihkan dari outlier)."
      ]
    },
    {
      "cell_type": "markdown",
      "metadata": {
        "id": "6dcWsYCX4hh7"
      },
      "source": [
        "**Range**, cara sederhana untuk mengukur varians dalam kumpulan data adalah dengan mengidentifikasi perbedaan antara nilai terendah dan tertinggi. Ini disebut rentang, dan dihitung dengan mengurangkan nilai minimum dari nilai maksimum."
      ]
    },
    {
      "cell_type": "code",
      "execution_count": 42,
      "metadata": {
        "colab": {
          "base_uri": "https://localhost:8080/"
        },
        "id": "iSUAOIKV4230",
        "outputId": "92de2c5d-5dba-491f-a246-edbb9e29cb6e"
      },
      "outputs": [
        {
          "name": "stdout",
          "output_type": "stream",
          "text": [
            "load_weight range: 0.0\n"
          ]
        }
      ],
      "source": [
        "import pandas as pd\n",
        "\n",
        "Range = ['load_weight']\n",
        "for col in Range:\n",
        "    print(wilcab2[col].name + ' range: ' + str(wilcab2[col].max() - wilcab2[col].min()))"
      ]
    },
    {
      "cell_type": "markdown",
      "metadata": {
        "id": "js_g-IafKOT5"
      },
      "source": [
        "**Varians**, cara menunjukkan seberapa jauh data-data yang di miliki tersebar dari nilai rata-ratanya. Sedangkan, **standar deviasi** cara untuk mengetahui berapa banyak nilai atau jumlah data yang berbeda dari rata-rata.\n"
      ]
    },
    {
      "cell_type": "code",
      "execution_count": 43,
      "metadata": {
        "colab": {
          "base_uri": "https://localhost:8080/"
        },
        "id": "QyAFoPAPKN_7",
        "outputId": "1e59c0d6-15c7-4736-b812-8ab174079bb9"
      },
      "outputs": [
        {
          "name": "stdout",
          "output_type": "stream",
          "text": [
            "Nilai variance : 0.0\n"
          ]
        }
      ],
      "source": [
        "# Get the Variance\n",
        "print(f'Nilai variance :', wilcab2['load_weight'].var())"
      ]
    },
    {
      "cell_type": "code",
      "execution_count": 44,
      "metadata": {
        "colab": {
          "base_uri": "https://localhost:8080/"
        },
        "id": "ye05qN6YKqYI",
        "outputId": "cc5d1548-a5c3-4b31-8645-1f169ebd6f5d"
      },
      "outputs": [
        {
          "name": "stdout",
          "output_type": "stream",
          "text": [
            "Nilai standard deviation : 0.0\n"
          ]
        }
      ],
      "source": [
        "# Get the Standard Deviation\n",
        "print(f'Nilai standard deviation :', wilcab2['load_weight'].std())"
      ]
    },
    {
      "cell_type": "markdown",
      "metadata": {
        "id": "xJ4cPBJehsCr"
      },
      "source": [
        "Nilai simpangan baku pada kumpulan data bisa bernilai nol atau lebih kecil dari nol. Jika nilainya nol menandakan tidak terlalu jauh dari mean maupun median, maka seluruh nilai yang terdapat dalam himpunan itu sama."
      ]
    },
    {
      "cell_type": "markdown",
      "metadata": {
        "id": "LYeEc-ucWfhv"
      },
      "source": [
        "Informasi ukuran penyebaran (Range, Varians dan Standar Deviasi) tempat pembuangan berat sampah di lokasi WILCAB, untuk evaluasi bagi pemerintah kota Austin :\n",
        "\n",
        "1. Nilai range, varians dan standar deviasi tempat pembuangan berat sampah pada lokasi WILCAB bernilai nol menujukkan bahwa sekumpulan data tersebut sebagian ada yang bernilai identik namun sebagian juga tidak identik. Menandakan bahwa lokasi akhir pembuangan sampah di WILCAB berada dalam himpunan atau kumpulan dalam variabel. **Hal ini bisa menjadi evaluasi bagi pemerintah kota Austin untuk selalu menampung berat sampah sebesar 5800 dan tidak menampung berat sampah melebih dari nilai yang seharusnya. Sehingga sistem pembuangan dan pengolahan sampah pada lokasi WILCAB bisa selalu berkerja konsisten dengan baik.**"
      ]
    },
    {
      "cell_type": "markdown",
      "metadata": {
        "id": "lVJG7Ru9awWb"
      },
      "source": [
        "### 7"
      ]
    },
    {
      "cell_type": "markdown",
      "metadata": {
        "id": "i-bRsIXQh7zT"
      },
      "source": [
        "**Nomor 7 :** Pemerintah kota berencana menambah site baru. Berikan analisa dan saran terkait berapa kapasitas penampungan di site baru berdasarkan perhitungan confidence interval. Data apa yang kamu gunakan, apakah hanya dari satu site saja atau dari keseluruhan site?"
      ]
    },
    {
      "cell_type": "markdown",
      "metadata": {},
      "source": [
        "Rumus untuk mencari interval kepercayaan: x̅ ± Z,alpha/2 * σ/√(n). Menggunakan nilai mean, nilai standar deviasi, level kepercayan 95% dan n data."
      ]
    },
    {
      "cell_type": "code",
      "execution_count": 31,
      "metadata": {
        "id": "hbgoXWbjnh5V"
      },
      "outputs": [],
      "source": [
        "#confidence interval Keseluruhan data\n",
        "from scipy import stats\n",
        "import numpy as np\n",
        "mean, sigma = np.mean(data), np.std(data)\n",
        "\n",
        "conf_int = stats.norm.interval(0.95, loc=mean, scale=sigma / np.sqrt(len(data)))"
      ]
    },
    {
      "cell_type": "code",
      "execution_count": 39,
      "metadata": {
        "colab": {
          "base_uri": "https://localhost:8080/"
        },
        "id": "4Q2NIp6tsupi",
        "outputId": "b25c001f-f811-4a0a-8106-fe29dcebb248"
      },
      "outputs": [
        {
          "name": "stdout",
          "output_type": "stream",
          "text": [
            "(array([7065.68698456]), array([7111.61625544]))\n"
          ]
        }
      ],
      "source": [
        "print(conf_int)"
      ]
    },
    {
      "cell_type": "code",
      "execution_count": null,
      "metadata": {
        "id": "xHaRogR9p_3r"
      },
      "outputs": [],
      "source": [
        "mean, sigma = np.mean(mrf), np.std(mrf)\n",
        "conf_int_mrf = stats.norm.interval(0.95, loc=mean, scale=sigma / np.sqrt(len(mrf)))"
      ]
    },
    {
      "cell_type": "code",
      "execution_count": 41,
      "metadata": {
        "colab": {
          "base_uri": "https://localhost:8080/"
        },
        "id": "LW0EBQTLswKB",
        "outputId": "6f02ada1-2bea-4500-e6ab-7c97fab31d56"
      },
      "outputs": [
        {
          "name": "stdout",
          "output_type": "stream",
          "text": [
            "(array([5281.08397793]), array([5329.19969292]))\n"
          ]
        }
      ],
      "source": [
        "print(conf_int_mrf)"
      ]
    },
    {
      "cell_type": "code",
      "execution_count": null,
      "metadata": {
        "id": "ozrWUINBrGRz"
      },
      "outputs": [],
      "source": [
        "mean, sigma = np.mean(elmont), np.std(elmont)\n",
        "conf_int_elmont = stats.norm.interval(0.95, loc=mean, scale=sigma / np.sqrt(len(elmont)))"
      ]
    },
    {
      "cell_type": "code",
      "execution_count": 43,
      "metadata": {
        "colab": {
          "base_uri": "https://localhost:8080/"
        },
        "id": "yO28e42Ssy3J",
        "outputId": "da894106-ac9f-4231-b8fe-96744fb674c5"
      },
      "outputs": [
        {
          "name": "stdout",
          "output_type": "stream",
          "text": [
            "(array([5793.62200095]), array([5871.38073503]))\n"
          ]
        }
      ],
      "source": [
        "print(conf_int_elmont)"
      ]
    },
    {
      "cell_type": "code",
      "execution_count": null,
      "metadata": {
        "id": "xAyZW9DarHYu"
      },
      "outputs": [],
      "source": [
        "mean, sigma = np.mean(kramer), np.std(kramer)\n",
        "conf_int_kramer = stats.norm.interval(0.95, loc=mean, scale=sigma / np.sqrt(len(kramer)))"
      ]
    },
    {
      "cell_type": "code",
      "execution_count": 45,
      "metadata": {
        "colab": {
          "base_uri": "https://localhost:8080/"
        },
        "id": "4T5C2Wczs4Z5",
        "outputId": "08a359a8-f776-48b9-e404-28b28bb46159"
      },
      "outputs": [
        {
          "name": "stdout",
          "output_type": "stream",
          "text": [
            "(array([5762.77578469]), array([5948.4900381]))\n"
          ]
        }
      ],
      "source": [
        "print(conf_int_kramer)"
      ]
    },
    {
      "cell_type": "code",
      "execution_count": null,
      "metadata": {
        "id": "ZqWwDlAyrhFx"
      },
      "outputs": [],
      "source": [
        "mean, sigma = np.mean(wilcab), np.std(wilcab)\n",
        "conf_int_wilcab = stats.norm.interval(0.95, loc=mean, scale=sigma / np.sqrt(len(wilcab)))"
      ]
    },
    {
      "cell_type": "code",
      "execution_count": 49,
      "metadata": {
        "colab": {
          "base_uri": "https://localhost:8080/"
        },
        "id": "gLt1m1Ajs78t",
        "outputId": "1794c0f9-bf1e-410a-df8b-cfc4a17e626a"
      },
      "outputs": [
        {
          "name": "stdout",
          "output_type": "stream",
          "text": [
            "(array([ 5.79939780e+03, -3.73478945e-02]), array([5.83473437e+03, 3.73478945e-02]))\n"
          ]
        }
      ],
      "source": [
        "print(conf_int_wilcab)"
      ]
    },
    {
      "cell_type": "code",
      "execution_count": null,
      "metadata": {
        "id": "ZnDwGqo0rw_K"
      },
      "outputs": [],
      "source": [
        "mean, sigma = np.mean(zilker), np.std(zilker)\n",
        "conf_int_zilker = stats.norm.interval(0.95, loc=mean, scale=sigma / np.sqrt(len(zilker)))"
      ]
    },
    {
      "cell_type": "code",
      "execution_count": 51,
      "metadata": {
        "colab": {
          "base_uri": "https://localhost:8080/"
        },
        "id": "jlZ1cLRGtDeh",
        "outputId": "a5353122-73e1-48c5-cdd8-b02bc47ef3dc"
      },
      "outputs": [
        {
          "name": "stdout",
          "output_type": "stream",
          "text": [
            "(array([8978.66671434]), array([9653.58328566]))\n"
          ]
        }
      ],
      "source": [
        "print(conf_int_zilker)"
      ]
    },
    {
      "cell_type": "code",
      "execution_count": null,
      "metadata": {
        "id": "41hz6sNbrzdq"
      },
      "outputs": [],
      "source": [
        "mean, sigma = np.mean(clarkson), np.std(clarkson)\n",
        "conf_int_clarkson = stats.norm.interval(0.95, loc=mean, scale=sigma / np.sqrt(len(clarkson)))"
      ]
    },
    {
      "cell_type": "code",
      "execution_count": 53,
      "metadata": {
        "colab": {
          "base_uri": "https://localhost:8080/"
        },
        "id": "U6a3MwlVtIiw",
        "outputId": "180a91f0-bbfc-4002-b0e5-7ea22e31813b"
      },
      "outputs": [
        {
          "name": "stdout",
          "output_type": "stream",
          "text": [
            "(array([5768.15202576]), array([5898.37647165]))\n"
          ]
        }
      ],
      "source": [
        "print(conf_int_clarkson)"
      ]
    },
    {
      "cell_type": "code",
      "execution_count": null,
      "metadata": {
        "id": "9ksqRu_Pr0e9"
      },
      "outputs": [],
      "source": [
        "mean, sigma = np.mean(park_bend), np.std(park_bend)\n",
        "conf_int_park_bend = stats.norm.interval(0.95, loc=mean, scale=sigma / np.sqrt(len(park_bend)))"
      ]
    },
    {
      "cell_type": "code",
      "execution_count": 55,
      "metadata": {
        "colab": {
          "base_uri": "https://localhost:8080/"
        },
        "id": "iC8H09HHtM_k",
        "outputId": "dd6f431b-dcc1-4fcc-d3ee-1a8041d7d4ce"
      },
      "outputs": [
        {
          "name": "stdout",
          "output_type": "stream",
          "text": [
            "(array([7097.85578804]), array([7850.6795655]))\n"
          ]
        }
      ],
      "source": [
        "print(conf_int_park_bend)"
      ]
    },
    {
      "cell_type": "code",
      "execution_count": null,
      "metadata": {
        "id": "9x2bJ0Cxr1M9"
      },
      "outputs": [],
      "source": [
        "mean, sigma = np.mean(tds_mrf), np.std(tds_mrf)\n",
        "conf_int_tds_mrf = stats.norm.interval(0.95, loc=mean, scale=sigma / np.sqrt(len(tds_mrf)))"
      ]
    },
    {
      "cell_type": "code",
      "execution_count": 57,
      "metadata": {
        "colab": {
          "base_uri": "https://localhost:8080/"
        },
        "id": "HavswG4stMUU",
        "outputId": "9f22823f-38ab-4c79-af21-3e2c0d6c11d5"
      },
      "outputs": [
        {
          "name": "stdout",
          "output_type": "stream",
          "text": [
            "(array([10079.58669495]), array([10153.79217508]))\n"
          ]
        }
      ],
      "source": [
        "print(conf_int_tds_mrf)"
      ]
    },
    {
      "cell_type": "markdown",
      "metadata": {
        "id": "wz8_lwLwd4PG"
      },
      "source": [
        "Confidence Interval merupakan parameter yang digunakan untuk menentukan keakuratan Mean suatu sampel. Istilah statistik yang menggambarkan tingkat kepercayaan terhadap hasil kalkulasi. Keakuratan covidence level atau persentase keyakinan yang digunakan 95%, interval artinya jika saya mengambil 100 samples maka kemungkinan 95 sample saya akan mencakup nilai Population Mean sesungguhnya.\n",
        "\n",
        "---\n",
        "Nilai Confidence Interval untuk keseluruhan berat sampah di semua lokasi antara 7066 sampai 7112, berat sampah di lokasi MRF antara 5281 sampai 5329, berat sampah di lokasi ELMONT antara 5794 sampai 5871, berat sampah di lokasi KRAMER antara 5763 sampai 5948, berat sampah di lokasi ZILKER antara 8979 sampai 9653, berat sampah di lokasi CLARKSON antara 5768 sampai 5898, berat sampah di lokasi PARK BEND antara 7097 sampai 7851 dan berat sampah di lokasi TDS_MRF antara 10079 sampai 10153.\n",
        "\n",
        "---\n",
        "Informasi Confidence Interval tempat pembuangan sampah, untuk evaluasi bagi pemerintah kota Austin :\n",
        "\n",
        "1. Tingkat kepercayaan keakuratan semua lokasi tempat pembuangan berat sampah berada di kisaran nilai 7066 sampai 7112. **Hal ini bisa menjadi evaluasi bagi pemerintah kota Austin jika ingin membuat lokasi penampungan berat sampah baru/site baru, lokasi baru yang direncanakan bisa menerima tampungan berat sampah di antara 7066 sampai 7112.**\n",
        "\n",
        "2. Tingkat kepercayaan keakuratan tempat pembuangan berat sampah lokasi TDS_MRF berada di kisaran nilai 10079 sampai 10153. **Hal ini bisa menjadi evaluasi bagi pemerintah kota Austin, bawha lokasi TDS_MRF selalu menerima tampungan berat sampah lebih banyak dibandingkan lokasi lainya yaitu antara 10079 sampai 10153, maka pemerintah harus lebih banyak mengerahkan perkerja dan mesin pengolahan sampah di lokasi TDS_MRF. Sehingga sistem pembuangan dan pengelolaan sampah di lokasi TDS_MRF selalu optimal dan berjalan lancar.**"
      ]
    },
    {
      "cell_type": "markdown",
      "metadata": {
        "id": "Vf_mSnKdknJc"
      },
      "source": [
        "### 8"
      ]
    },
    {
      "cell_type": "markdown",
      "metadata": {
        "id": "uRa_qKzBtVsa"
      },
      "source": [
        "**Nomor 8** : Buatlah analisa uji hipotesis dari data tersebut dari data yang tersedia (kasusnya dibebaskan). Definisikan H0 dan H1 nya serta lakukan perhitungan menggunakan t-test yang sesuai dengan hipotesis kamu. Tulis kesimpulan dari hasil perhitunganmu kepada pemerintah kota (Ingat! pemerintah kota tidak mengerti p-value, hipotesis diterima/tidak diterima)."
      ]
    },
    {
      "cell_type": "code",
      "execution_count": 58,
      "metadata": {
        "colab": {
          "base_uri": "https://localhost:8080/",
          "height": 206
        },
        "id": "uMvS8KPDl05E",
        "outputId": "fac8f85f-4f8e-4dea-970e-5f9615514618"
      },
      "outputs": [
        {
          "data": {
            "text/html": [
              "\n",
              "  <div id=\"df-77023925-bd03-4501-9024-6ef8c6c0a258\">\n",
              "    <div class=\"colab-df-container\">\n",
              "      <div>\n",
              "<style scoped>\n",
              "    .dataframe tbody tr th:only-of-type {\n",
              "        vertical-align: middle;\n",
              "    }\n",
              "\n",
              "    .dataframe tbody tr th {\n",
              "        vertical-align: top;\n",
              "    }\n",
              "\n",
              "    .dataframe thead th {\n",
              "        text-align: right;\n",
              "    }\n",
              "</style>\n",
              "<table border=\"1\" class=\"dataframe\">\n",
              "  <thead>\n",
              "    <tr style=\"text-align: right;\">\n",
              "      <th></th>\n",
              "      <th>load_type</th>\n",
              "      <th>load_time</th>\n",
              "      <th>load_weight</th>\n",
              "      <th>dropoff_site</th>\n",
              "    </tr>\n",
              "  </thead>\n",
              "  <tbody>\n",
              "    <tr>\n",
              "      <th>0</th>\n",
              "      <td>RECYCLING - SINGLE STREAM</td>\n",
              "      <td>2009-08-07 11:51:00 UTC</td>\n",
              "      <td>4400.0</td>\n",
              "      <td>MRF</td>\n",
              "    </tr>\n",
              "    <tr>\n",
              "      <th>1</th>\n",
              "      <td>RECYCLING - PAPER</td>\n",
              "      <td>2008-04-11 12:31:00 UTC</td>\n",
              "      <td>1920.0</td>\n",
              "      <td>MRF</td>\n",
              "    </tr>\n",
              "    <tr>\n",
              "      <th>2</th>\n",
              "      <td>RECYCLING - SINGLE STREAM</td>\n",
              "      <td>2009-01-16 12:58:00 UTC</td>\n",
              "      <td>4140.0</td>\n",
              "      <td>MRF</td>\n",
              "    </tr>\n",
              "    <tr>\n",
              "      <th>3</th>\n",
              "      <td>RECYCLING - SINGLE STREAM</td>\n",
              "      <td>2009-07-10 11:21:00 UTC</td>\n",
              "      <td>4020.0</td>\n",
              "      <td>MRF</td>\n",
              "    </tr>\n",
              "    <tr>\n",
              "      <th>4</th>\n",
              "      <td>RECYCLING - COMINGLE</td>\n",
              "      <td>2006-02-03 12:36:00 UTC</td>\n",
              "      <td>1700.0</td>\n",
              "      <td>MRF</td>\n",
              "    </tr>\n",
              "  </tbody>\n",
              "</table>\n",
              "</div>\n",
              "      <button class=\"colab-df-convert\" onclick=\"convertToInteractive('df-77023925-bd03-4501-9024-6ef8c6c0a258')\"\n",
              "              title=\"Convert this dataframe to an interactive table.\"\n",
              "              style=\"display:none;\">\n",
              "        \n",
              "  <svg xmlns=\"http://www.w3.org/2000/svg\" height=\"24px\"viewBox=\"0 0 24 24\"\n",
              "       width=\"24px\">\n",
              "    <path d=\"M0 0h24v24H0V0z\" fill=\"none\"/>\n",
              "    <path d=\"M18.56 5.44l.94 2.06.94-2.06 2.06-.94-2.06-.94-.94-2.06-.94 2.06-2.06.94zm-11 1L8.5 8.5l.94-2.06 2.06-.94-2.06-.94L8.5 2.5l-.94 2.06-2.06.94zm10 10l.94 2.06.94-2.06 2.06-.94-2.06-.94-.94-2.06-.94 2.06-2.06.94z\"/><path d=\"M17.41 7.96l-1.37-1.37c-.4-.4-.92-.59-1.43-.59-.52 0-1.04.2-1.43.59L10.3 9.45l-7.72 7.72c-.78.78-.78 2.05 0 2.83L4 21.41c.39.39.9.59 1.41.59.51 0 1.02-.2 1.41-.59l7.78-7.78 2.81-2.81c.8-.78.8-2.07 0-2.86zM5.41 20L4 18.59l7.72-7.72 1.47 1.35L5.41 20z\"/>\n",
              "  </svg>\n",
              "      </button>\n",
              "      \n",
              "  <style>\n",
              "    .colab-df-container {\n",
              "      display:flex;\n",
              "      flex-wrap:wrap;\n",
              "      gap: 12px;\n",
              "    }\n",
              "\n",
              "    .colab-df-convert {\n",
              "      background-color: #E8F0FE;\n",
              "      border: none;\n",
              "      border-radius: 50%;\n",
              "      cursor: pointer;\n",
              "      display: none;\n",
              "      fill: #1967D2;\n",
              "      height: 32px;\n",
              "      padding: 0 0 0 0;\n",
              "      width: 32px;\n",
              "    }\n",
              "\n",
              "    .colab-df-convert:hover {\n",
              "      background-color: #E2EBFA;\n",
              "      box-shadow: 0px 1px 2px rgba(60, 64, 67, 0.3), 0px 1px 3px 1px rgba(60, 64, 67, 0.15);\n",
              "      fill: #174EA6;\n",
              "    }\n",
              "\n",
              "    [theme=dark] .colab-df-convert {\n",
              "      background-color: #3B4455;\n",
              "      fill: #D2E3FC;\n",
              "    }\n",
              "\n",
              "    [theme=dark] .colab-df-convert:hover {\n",
              "      background-color: #434B5C;\n",
              "      box-shadow: 0px 1px 3px 1px rgba(0, 0, 0, 0.15);\n",
              "      filter: drop-shadow(0px 1px 2px rgba(0, 0, 0, 0.3));\n",
              "      fill: #FFFFFF;\n",
              "    }\n",
              "  </style>\n",
              "\n",
              "      <script>\n",
              "        const buttonEl =\n",
              "          document.querySelector('#df-77023925-bd03-4501-9024-6ef8c6c0a258 button.colab-df-convert');\n",
              "        buttonEl.style.display =\n",
              "          google.colab.kernel.accessAllowed ? 'block' : 'none';\n",
              "\n",
              "        async function convertToInteractive(key) {\n",
              "          const element = document.querySelector('#df-77023925-bd03-4501-9024-6ef8c6c0a258');\n",
              "          const dataTable =\n",
              "            await google.colab.kernel.invokeFunction('convertToInteractive',\n",
              "                                                     [key], {});\n",
              "          if (!dataTable) return;\n",
              "\n",
              "          const docLinkHtml = 'Like what you see? Visit the ' +\n",
              "            '<a target=\"_blank\" href=https://colab.research.google.com/notebooks/data_table.ipynb>data table notebook</a>'\n",
              "            + ' to learn more about interactive tables.';\n",
              "          element.innerHTML = '';\n",
              "          dataTable['output_type'] = 'display_data';\n",
              "          await google.colab.output.renderOutput(dataTable, element);\n",
              "          const docLink = document.createElement('div');\n",
              "          docLink.innerHTML = docLinkHtml;\n",
              "          element.appendChild(docLink);\n",
              "        }\n",
              "      </script>\n",
              "    </div>\n",
              "  </div>\n",
              "  "
            ],
            "text/plain": [
              "                   load_type                load_time  load_weight  \\\n",
              "0  RECYCLING - SINGLE STREAM  2009-08-07 11:51:00 UTC       4400.0   \n",
              "1          RECYCLING - PAPER  2008-04-11 12:31:00 UTC       1920.0   \n",
              "2  RECYCLING - SINGLE STREAM  2009-01-16 12:58:00 UTC       4140.0   \n",
              "3  RECYCLING - SINGLE STREAM  2009-07-10 11:21:00 UTC       4020.0   \n",
              "4       RECYCLING - COMINGLE  2006-02-03 12:36:00 UTC       1700.0   \n",
              "\n",
              "  dropoff_site  \n",
              "0          MRF  \n",
              "1          MRF  \n",
              "2          MRF  \n",
              "3          MRF  \n",
              "4          MRF  "
            ]
          },
          "execution_count": 58,
          "metadata": {},
          "output_type": "execute_result"
        }
      ],
      "source": [
        "data.head()"
      ]
    },
    {
      "cell_type": "markdown",
      "metadata": {
        "id": "p1CZ1sopqhc1"
      },
      "source": [
        "**A. Independent sample t-test** merupakan uji yang digunakan untuk mengetahui adakah perbedaan mean antara dua kelompok bebas atau dua kelompok yang tidak berpasangan dengan maksud bahwa kedua kelompok data berasal subjek yang berbeda. Maka saya akan menguji perbedaan rata-rata berat sampah yang berada di lokasi Park Bend dan Tds-Mrf."
      ]
    },
    {
      "cell_type": "code",
      "execution_count": 59,
      "metadata": {
        "colab": {
          "base_uri": "https://localhost:8080/"
        },
        "id": "47kBx6_7ovcY",
        "outputId": "f7819595-85a1-4cda-8d7f-4300d70fd808"
      },
      "outputs": [
        {
          "name": "stdout",
          "output_type": "stream",
          "text": [
            "Rata-rata Berat Sampah di Lokasi PARK BEND :  7830.185185185185\n",
            "Rata-rata Berat Sampah di Lokasi TDS - MRF :  11317.86565773674\n"
          ]
        }
      ],
      "source": [
        "#Melihat rata-rata \n",
        "Berat_sampah_di_parkbend = data[data.dropoff_site == 'PARK BEND'].groupby('load_time').sum()['load_weight'] \n",
        "Berat_sampah_di_tdsmrf = data[data.dropoff_site == 'TDS - MRF'].groupby('load_time').sum()['load_weight']\n",
        "\n",
        "print(\"Rata-rata Berat Sampah di Lokasi PARK BEND : \",Berat_sampah_di_parkbend.mean())\n",
        "print(\"Rata-rata Berat Sampah di Lokasi TDS - MRF : \",Berat_sampah_di_tdsmrf.mean())"
      ]
    },
    {
      "cell_type": "markdown",
      "metadata": {
        "id": "o1V6wNCFrFb4"
      },
      "source": [
        "Rata-rata Berat Sampah di Lokasi PARK BEND bernilai 7830 dan Rata-rata Berat Sampah di Lokasi TDS - MRF bernilai 11318, apakah terdapat perbedaan berat sampah di antara dua lokasi tersebut.\n",
        "\n",
        "Hipotesis\n",
        "\n",
        "**H0: μ_PARK BEND(7830) = μ_TDS-MRF(11318)** (Perbedaan rata-rata berat sampah yang di lokasi park bend sama dengan lokasi tds-mrf)\n",
        "\n",
        "**H1: μ_PARK BEND(7830) != μ_TDS-MRF(11318)** (Perbedaan rata-rata berat sampah yang di lokasi park bend tidak sama dengan lokasi tds-mrf)"
      ]
    },
    {
      "cell_type": "code",
      "execution_count": 60,
      "metadata": {
        "colab": {
          "base_uri": "https://localhost:8080/"
        },
        "id": "AnByzsHIpRiL",
        "outputId": "f8e31c37-6c4c-464c-e5d0-b0133bc3b471"
      },
      "outputs": [
        {
          "name": "stdout",
          "output_type": "stream",
          "text": [
            "P-value: 6.667670582888495e-23\n",
            "t-statistics: -9.857740603999408\n"
          ]
        }
      ],
      "source": [
        "#Kalau independent pakai stats.ttest_ind\n",
        "t_stat, p_val = stats.ttest_ind(Berat_sampah_di_parkbend,Berat_sampah_di_tdsmrf)\n",
        "print('P-value:',p_val) \n",
        "print('t-statistics:',t_stat)"
      ]
    },
    {
      "cell_type": "markdown",
      "metadata": {
        "id": "LOEj71YXstmg"
      },
      "source": [
        "Nilai p-value adalah 0.00000 < (lebih kecil) dari taraf signifikansi adalah 0.05,  maka menolak hipotesis H0. Sehingga Hipotesis H1 di terima, perbedaan rata-rata berat sampah yang di lokasi park bend tidak sama dengan lokasi tds-mrf."
      ]
    },
    {
      "cell_type": "markdown",
      "metadata": {
        "id": "Jcva0XU7mIns"
      },
      "source": [
        "**B. Anova** merupakan analisis yang menguji perbedaan rerata antar grup. Grup disini bisa berarti kelompok atau jenis perlakuan. Maka saya aka menguji perbedaan rata-rata berat sampah yang ada di lokasi elmont, lokasi kramer dan lokasi clarkson. "
      ]
    },
    {
      "cell_type": "code",
      "execution_count": 61,
      "metadata": {
        "colab": {
          "base_uri": "https://localhost:8080/"
        },
        "id": "EHbAhfEzl7Zq",
        "outputId": "f2c566ce-7ed0-4237-c037-80a456552ebe"
      },
      "outputs": [
        {
          "name": "stdout",
          "output_type": "stream",
          "text": [
            "Rata-rata Berat Sampah di Lokasi ELMONT :  6099.511444921316\n",
            "Rata-rata Berat Sampah di Lokasi KRAMER :  6209.3288590604025\n",
            "Rata-rata Berat Sampah di Lokasi CLARKSON :  6102.005420054201\n"
          ]
        }
      ],
      "source": [
        "#Melihat rata-rata \n",
        "Berat_sampah_di_elmont = data[data.dropoff_site == 'ELMONT'].groupby('load_time').sum()['load_weight'] \n",
        "Berat_sampah_di_kramer = data[data.dropoff_site == 'KRAMER'].groupby('load_time').sum()['load_weight']\n",
        "Berat_sampah_di_clarkson = data[data.dropoff_site == 'CLARKSON'].groupby('load_time').sum()['load_weight']\n",
        "\n",
        "print(\"Rata-rata Berat Sampah di Lokasi ELMONT : \",Berat_sampah_di_elmont.mean())\n",
        "print(\"Rata-rata Berat Sampah di Lokasi KRAMER : \",Berat_sampah_di_kramer.mean())\n",
        "print(\"Rata-rata Berat Sampah di Lokasi CLARKSON : \",Berat_sampah_di_clarkson.mean())"
      ]
    },
    {
      "cell_type": "markdown",
      "metadata": {
        "id": "OqcG-UQ3nAeW"
      },
      "source": [
        "Rata-rata Berat Sampah di Lokasi ELMONT bernilai 6099, Rata-rata Berat Sampah di Lokasi KRAMER bernilai 6209 dan Rata-rata Berat Sampah di Lokasi CLARKSON bernilai 6102, apakah terdapat perbedaan berat sampah di antara tiga lokasi tersebut.\n",
        "\n",
        "Hipotesis\n",
        "\n",
        "**H0: μ_PARK ELMONT(6099) = μ_PARK KRAMER(6209) = μ_CLARKSON(6102)** (Perbedaan rata-rata berat sampah yang di 3 lokasi sama)\n",
        "\n",
        "**H1: μ_PARK ELMONT(6099) != μ_PARK KRAMER(6209) != μ_CLARKSON(6102)** (Perbedaan rata-rata berat sampah yang di 3 lokasi tidak sama)"
      ]
    },
    {
      "cell_type": "code",
      "execution_count": 62,
      "metadata": {
        "colab": {
          "base_uri": "https://localhost:8080/"
        },
        "id": "NstgKcFcnbS2",
        "outputId": "1279d822-9ccc-40ad-df53-fe4ba3602523"
      },
      "outputs": [
        {
          "name": "stdout",
          "output_type": "stream",
          "text": [
            "P-value: 0.5525571324017636\n"
          ]
        }
      ],
      "source": [
        "# Anova pakai uji F\n",
        "f_stat,p_value = stats.f_oneway(Berat_sampah_di_elmont, Berat_sampah_di_kramer, Berat_sampah_di_clarkson)\n",
        "print('P-value:',p_value)"
      ]
    },
    {
      "cell_type": "markdown",
      "metadata": {
        "id": "0UxXt7bQodhg"
      },
      "source": [
        "Nilai p-value adalah 0.5525 > (lebih besar) dari taraf signifikansi adalah 0.05,  maka gagal menolak hipotesis H0. Sehingga Hipotesis H0 di terima, perbedaan rata-rata berat sampah yang di 3 lokasi sama."
      ]
    },
    {
      "cell_type": "markdown",
      "metadata": {
        "id": "in32iCPPpGH-"
      },
      "source": [
        "### 9"
      ]
    },
    {
      "cell_type": "markdown",
      "metadata": {
        "id": "fp8MmFPZo64A"
      },
      "source": [
        "**Nomor 9** : Tarik benang merah dan kesimpulan dari perhitungan dan analisa yang kamu telah lakukan di langkah-langkah sebelumnya. Ceritakan kesimpulanmu kepada pemerintah kota dan hindari bahasa teknis yang tidak dimengerti oleh orang yang bukan data scientist!\n",
        "\n",
        "\n",
        "a. Melihat rentang waktu pengambilan data ?\n",
        "\n",
        "Jawab : Rentang waktu pengambilan data sistem pembuangan dan pengelolaan sampah di kota austin dilakukan dari tanggal 2000-01-26 12:39:00 UTC sampai tanggal 2021-07-11 07:07:05 UTC. Berdasarkan rentang waktu tersebut, bahwa pemerintah kota austin sudah selalu konsisten melakukan pengloahan sampah setiap harinya, diharapkan untuk tetap mempertahankan kekonsistenanya dalam mengelolah sampah harian.\n",
        "\n",
        "----\n",
        "\n",
        "b. Ada apa saja tipe load sampah di kota Austin berdasarkan data ?\n",
        "\n",
        "Jawab : Tipe pembuangan sampah dari semua material sisa yang berbentuk padatan dan sudah dibuang oleh manusia berdasarkan data pada lokasi kota austin antara lain berjenis tipe RECYCLING - PLASTIC BAGS dengan jumah berat sampah sebesar 680,  CONTAMINATED RECYCLING dengan jumlah berat sampah sebesar 6980, YARD TRIMMING - X-MAS TREES dengan jumlah berat sampah sebesar 7500, DEAD ANIMAL dengan jumlah berat sampah sebesar 9700, MULCH dengan jumlah berat sampah sebesar 18740,  LITTER dengan jumlah berat sampah sebesar 28400, MIXED LITTER dengan jumlah berat sampah sebesar 54420, ORGANICS dengan jumlah berat sampah sebesar 82820, BULK dengan jumlah berat sampah sebesar 236660, RECYCLED METAL dengan jumlah berat sampah sebesar 370190, TIRES dengan jumlah berat sampah sebesar 3002758, BRUSH dengan jumlah berat sampah sebesar 3275810, YARD TRIMMING dengan jumlah berat sampah sebesar 8560222, GARBAGE COLLECTIONS dengan jumlah berat sampah sebesar 14257020, SWEEPING dengan jumlah berat sampah sebesar 29624017, RECYCLING - COMINGLE dengan jumlah berat sampah sebesar 101101409, RECYCLING - PAPER dengan jumlah berat sampah sebesar 141128780 dan RECYCLING - SINGLE STREAM dengan jumlah berat sampah sebesar 761531637. Atau terdapat 18 jenis/tipe sampah yang dibuang lokasi kota Austin. Berdasarkan informasi ini, bahwa di kota austin terdapat banyak jenis tipe sampah dengan jumlah keseluruhan yang terbuang berbeda-beda, bisa menjadi evaluasi bagian UKM kota austin bisa mendaur ulang jenis sampah yang jumlahnya besar untuk dijadikan barang yang bisa di pakai lagi. Misalnya sampah RECYLING-PAPER tergolong jenis sampah yang jumlahnya besar, pemerintah bisa mendaur ulang kertasnya menjadi kerajinan yang berguna sehingga mengurangi jumlah berat sampah tersebut melalui tenaga kerja UKM.\n",
        "\n",
        "----\n",
        "\n",
        "c. Mengetahui tempat pembuangan sampah ada dimana saja ?\n",
        "\n",
        "Jawab : Tempat pembuangan sampah atau tempat akhir dari pemprosesan sampah di kota austin terdapat 8 lokasi, antara lain MRF, ELMONT, KRAMER, WILCAB, ZILKER, CLARKSON, PARK BEND dan TDS - MRF. Atau terdapat 8 lokasi akhir dari pembuangan sampah di kota Austin.\n",
        "\n",
        "----\n",
        "\n",
        "d. Berapa site lokasi yang dibutuhkan untuk menampung berat sampah ?\n",
        "\n",
        "Jawab : Hasil Tingkat kepercayaan keakuratan semua lokasi tempat pembuangan berat sampah berada di kisaran nilai 7066 sampai 7112. Hal ini bisa menjadi evaluasi bagi pemerintah kota Austin jika ingin membuat lokasi penampungan berat sampah baru/site baru, lokasi baru yang direncanakan bisa menerima tampungan berat sampah di antara 7066 sampai 7112 setiap harinya.\n",
        "\n",
        "----\n",
        "\n",
        "e. Apakah lokasi dropoff_site zilker dan park bend memilik kapasitas menampung sampah yang sama ?\n",
        "\n",
        "jawab : Hasil uji independet t-test menunjukkan ada perbedaan rata-rata lokasi park bend dengan lokasi tds-mrf. Lokasi park bend dengan tds-mrf memiliki signifikan yang berbeda dalam menampung berat sampah. Kedua loksi tersebut memiliki ukuran populasi yang berbeda sehingga rata-rata sampel nya tidak sama, Karena memiliki perbedaan rata-rata dalam menampung berat sampah, pemerintah kota austin harus memberikan pelayanan yang berbeda di kedua tempat tersebut. Misalnya lokasi tds-mrf memiliki rata-rata yang jumlahnya lebih besar dibandingkan lokasi park bend, maka pemernitah harus lebih banyak memperhatikan sistem pengolakan lokasi tds-mrf agar terus berjalan dengan baik.\n",
        "\n",
        "----\n",
        "\n",
        "f. Apakah lokasi dropoff_site elmont, kramer dan clarkson memiliki kapasitas menampung sampah yang sama ?\n",
        "\n",
        "Jawab : Hasil uji Anova menujukkan perbedaan rata-rata lokasi elmont, kramer dan clarkson dalam menampung berat sampah adalah sama. Tidak ada perbedaan yang signifikan antara Lokasi elmont, kramer dan clarkson dalam menampung berat sampah. Ketiga loksi tersebut memiliki ukuran populasi yang sama sehingga rata-rata sampel nya juga sama, Karena memiliki kesamaan rata-rata dalam menampung berat sampah, pemerintah kota austin tetap harus mempertahankan kekonsistenan sistem pengolahan dan penampungan sampah di ketiga loksi tersebut, agar terus berjalan dengan baik."
      ]
    },
    {
      "cell_type": "markdown",
      "metadata": {
        "id": "5L1KbW1_o23Q"
      },
      "source": [
        "### Jawab pertanyaan berikut untuk mengasah pemahaman konsepmu!"
      ]
    },
    {
      "cell_type": "markdown",
      "metadata": {
        "id": "0AkSmAtnouVm"
      },
      "source": [
        "\n",
        "Apa perbedaan statistik deskriptif dan inferensial?\n",
        "\n",
        "1.   Apa perbedaan statistik deskriptif dan inferensial?\n",
        "\n",
        "Jawab : Statistika deskripsi merupakan metode statistika yang berkaitan dengan cara **pengumpulan, pengolahan sampai penyajian data **untuk memberi suatu informasi, Sedangkan Statistika inferensial merupakan metode statistika yang berkaitan dengan cara **menganalisis, menginterpretasikan sampai penarikan kesimpulan** dari hasil analisa.\n",
        "\n",
        "2.   Metrik pada central tendency apa yang tepat digunakan untuk menyimpulkan data yang terdistribusi normal dan tidak? Apakah sama atau berbeda?\n",
        "\n",
        "Jawab : Central tendency yang digunakan untuk mendeskripsikan distribusi normal adalah mean, median dan modus.  **Jika mean, modus dan median memiiki nilai sama, bisa dikatakan bahwa data tersebut distribusi normal**. Pada site WILCAB yang saya analisis memiliki mean, modus dan median yang hampir mirip sehingga di kategorikan berdistribusi normal.\n",
        "\n",
        "3.   Teknik apa yang kamu pilih untuk handling outlier? jelaskan alasannya!\n",
        "\n",
        "Jawab : **Pendeteksian data outlier metode IQR, berdasarkan proses tersebut site yang saya pilih yaitu WILCAB terdapat data yang oulier. Sehingga di lakukan pembersihan lower value dan upper value menggunakan metode Tukey's atau Z-score**. Atau cara lain bisa dengan drop nilai outliernya, jika terdapat data outlier bisa dilakukan drop index outlier pada variabel yang ada outliernya.\n",
        "4.   Apa konsep dibalik central tendency sehingga kita dapat menggunakannya untuk menyelesaikan langkah pada nomor 7?\n",
        "\n",
        "Jawab : **Centarl tendency yang digunakan untuk pencarian nilai confidence interval adalah mean dan standar deviasi.** Mean sebagai pengukuran pada sejumah sampel atau menghitung nilai rata-rata pengukuran, untuk memperkirakan nilai aktual untuk pengukuran tersebut. Standar deviasi sebagai indentifikasi jarak antar masing-masing nilai di dalam populasi data dan sebagai indentfikasi nilai outlier dalam sampel, yang mempengaruhi tingkat interval keyakinan dalam mewakili populasi tersebut. \n",
        "\n",
        "5.   Jelaskan jenis uji hipotesis apa yang kamu terapkan dan mengapa?\n",
        "\n",
        "Jawab : Saya menggunakan Independent sample t-test, karena rata-rata berat sampah di lokasi park bend dengan lokasi tds-mrf berada antara dua kelompok bebas atau **dua kelompok yang sama dengan maksud bahwa kedua kelompok data berasal subjek yang berbeda**. Saya juga menggunakan metode anova, karena rata-rata berat sampah di lokasi elmont, kramer dan clarkson **berada dalam kelompok yang sama tetapi memiliki beberapa subjek yang berbeda lebih dari 2 atau n subjek.**"
      ]
    }
  ],
  "metadata": {
    "colab": {
      "collapsed_sections": [],
      "name": "h8dsft_P0W3_Hillidatul Ilmi.ipynb",
      "provenance": []
    },
    "interpreter": {
      "hash": "0c9598bad852d241a266e00f4a396ca4d4e981649d84c59e5c608161c8fead6b"
    },
    "kernelspec": {
      "display_name": "Python 3.10.4 64-bit",
      "language": "python",
      "name": "python3"
    },
    "language_info": {
      "codemirror_mode": {
        "name": "ipython",
        "version": 3
      },
      "file_extension": ".py",
      "mimetype": "text/x-python",
      "name": "python",
      "nbconvert_exporter": "python",
      "pygments_lexer": "ipython3",
      "version": "3.10.4"
    },
    "orig_nbformat": 4
  },
  "nbformat": 4,
  "nbformat_minor": 0
}
